{
 "cells": [
  {
   "cell_type": "markdown",
   "metadata": {
    "colab_type": "text",
    "id": "MnSWG_q2Puy_"
   },
   "source": [
    "# Reflection-based Word Attribute Transfer Demo"
   ]
  },
  {
   "cell_type": "code",
   "execution_count": 1,
   "metadata": {
    "colab": {
     "base_uri": "https://localhost:8080/",
     "height": 649
    },
    "colab_type": "code",
    "executionInfo": {
     "elapsed": 10819,
     "status": "ok",
     "timestamp": 1585021009240,
     "user": {
      "displayName": "ICLR anonymous_authors",
      "photoUrl": "",
      "userId": "00874876402563127221"
     },
     "user_tz": -540
    },
    "id": "_Pv2b25BPuzA",
    "outputId": "e60c26f8-ed3f-45be-e335-b0ba9a56ce4a"
   },
   "outputs": [
    {
     "name": "stdout",
     "output_type": "stream",
     "text": [
      "Collecting gensim==3.7.3\n",
      "\u001b[?25l  Downloading https://files.pythonhosted.org/packages/d3/4b/19eecdf07d614665fa889857dc56ac965631c7bd816c3476d2f0cac6ea3b/gensim-3.7.3-cp36-cp36m-manylinux1_x86_64.whl (24.2MB)\n",
      "\u001b[K     |████████████████████████████████| 24.2MB 1.5MB/s \n",
      "\u001b[?25hRequirement already satisfied: smart-open>=1.7.0 in /usr/local/lib/python3.6/dist-packages (from gensim==3.7.3) (1.10.0)\n",
      "Requirement already satisfied: six>=1.5.0 in /usr/local/lib/python3.6/dist-packages (from gensim==3.7.3) (1.12.0)\n",
      "Requirement already satisfied: numpy>=1.11.3 in /usr/local/lib/python3.6/dist-packages (from gensim==3.7.3) (1.18.2)\n",
      "Requirement already satisfied: scipy>=0.18.1 in /usr/local/lib/python3.6/dist-packages (from gensim==3.7.3) (1.4.1)\n",
      "Requirement already satisfied: requests in /usr/local/lib/python3.6/dist-packages (from smart-open>=1.7.0->gensim==3.7.3) (2.21.0)\n",
      "Requirement already satisfied: google-cloud-storage in /usr/local/lib/python3.6/dist-packages (from smart-open>=1.7.0->gensim==3.7.3) (1.16.2)\n",
      "Requirement already satisfied: boto3 in /usr/local/lib/python3.6/dist-packages (from smart-open>=1.7.0->gensim==3.7.3) (1.12.23)\n",
      "Requirement already satisfied: idna<2.9,>=2.5 in /usr/local/lib/python3.6/dist-packages (from requests->smart-open>=1.7.0->gensim==3.7.3) (2.8)\n",
      "Requirement already satisfied: certifi>=2017.4.17 in /usr/local/lib/python3.6/dist-packages (from requests->smart-open>=1.7.0->gensim==3.7.3) (2019.11.28)\n",
      "Requirement already satisfied: chardet<3.1.0,>=3.0.2 in /usr/local/lib/python3.6/dist-packages (from requests->smart-open>=1.7.0->gensim==3.7.3) (3.0.4)\n",
      "Requirement already satisfied: urllib3<1.25,>=1.21.1 in /usr/local/lib/python3.6/dist-packages (from requests->smart-open>=1.7.0->gensim==3.7.3) (1.24.3)\n",
      "Requirement already satisfied: google-auth>=1.2.0 in /usr/local/lib/python3.6/dist-packages (from google-cloud-storage->smart-open>=1.7.0->gensim==3.7.3) (1.7.2)\n",
      "Requirement already satisfied: google-cloud-core<2.0dev,>=1.0.0 in /usr/local/lib/python3.6/dist-packages (from google-cloud-storage->smart-open>=1.7.0->gensim==3.7.3) (1.0.3)\n",
      "Requirement already satisfied: google-resumable-media<0.5.0dev,>=0.3.1 in /usr/local/lib/python3.6/dist-packages (from google-cloud-storage->smart-open>=1.7.0->gensim==3.7.3) (0.4.1)\n",
      "Requirement already satisfied: botocore<1.16.0,>=1.15.23 in /usr/local/lib/python3.6/dist-packages (from boto3->smart-open>=1.7.0->gensim==3.7.3) (1.15.23)\n",
      "Requirement already satisfied: jmespath<1.0.0,>=0.7.1 in /usr/local/lib/python3.6/dist-packages (from boto3->smart-open>=1.7.0->gensim==3.7.3) (0.9.5)\n",
      "Requirement already satisfied: s3transfer<0.4.0,>=0.3.0 in /usr/local/lib/python3.6/dist-packages (from boto3->smart-open>=1.7.0->gensim==3.7.3) (0.3.3)\n",
      "Requirement already satisfied: setuptools>=40.3.0 in /usr/local/lib/python3.6/dist-packages (from google-auth>=1.2.0->google-cloud-storage->smart-open>=1.7.0->gensim==3.7.3) (46.0.0)\n",
      "Requirement already satisfied: rsa<4.1,>=3.1.4 in /usr/local/lib/python3.6/dist-packages (from google-auth>=1.2.0->google-cloud-storage->smart-open>=1.7.0->gensim==3.7.3) (4.0)\n",
      "Requirement already satisfied: cachetools<3.2,>=2.0.0 in /usr/local/lib/python3.6/dist-packages (from google-auth>=1.2.0->google-cloud-storage->smart-open>=1.7.0->gensim==3.7.3) (3.1.1)\n",
      "Requirement already satisfied: pyasn1-modules>=0.2.1 in /usr/local/lib/python3.6/dist-packages (from google-auth>=1.2.0->google-cloud-storage->smart-open>=1.7.0->gensim==3.7.3) (0.2.8)\n",
      "Requirement already satisfied: google-api-core<2.0.0dev,>=1.14.0 in /usr/local/lib/python3.6/dist-packages (from google-cloud-core<2.0dev,>=1.0.0->google-cloud-storage->smart-open>=1.7.0->gensim==3.7.3) (1.16.0)\n",
      "Requirement already satisfied: docutils<0.16,>=0.10 in /usr/local/lib/python3.6/dist-packages (from botocore<1.16.0,>=1.15.23->boto3->smart-open>=1.7.0->gensim==3.7.3) (0.15.2)\n",
      "Requirement already satisfied: python-dateutil<3.0.0,>=2.1 in /usr/local/lib/python3.6/dist-packages (from botocore<1.16.0,>=1.15.23->boto3->smart-open>=1.7.0->gensim==3.7.3) (2.8.1)\n",
      "Requirement already satisfied: pyasn1>=0.1.3 in /usr/local/lib/python3.6/dist-packages (from rsa<4.1,>=3.1.4->google-auth>=1.2.0->google-cloud-storage->smart-open>=1.7.0->gensim==3.7.3) (0.4.8)\n",
      "Requirement already satisfied: pytz in /usr/local/lib/python3.6/dist-packages (from google-api-core<2.0.0dev,>=1.14.0->google-cloud-core<2.0dev,>=1.0.0->google-cloud-storage->smart-open>=1.7.0->gensim==3.7.3) (2018.9)\n",
      "Requirement already satisfied: googleapis-common-protos<2.0dev,>=1.6.0 in /usr/local/lib/python3.6/dist-packages (from google-api-core<2.0.0dev,>=1.14.0->google-cloud-core<2.0dev,>=1.0.0->google-cloud-storage->smart-open>=1.7.0->gensim==3.7.3) (1.51.0)\n",
      "Requirement already satisfied: protobuf>=3.4.0 in /usr/local/lib/python3.6/dist-packages (from google-api-core<2.0.0dev,>=1.14.0->google-cloud-core<2.0dev,>=1.0.0->google-cloud-storage->smart-open>=1.7.0->gensim==3.7.3) (3.10.0)\n",
      "Installing collected packages: gensim\n",
      "  Found existing installation: gensim 3.6.0\n",
      "    Uninstalling gensim-3.6.0:\n",
      "      Successfully uninstalled gensim-3.6.0\n",
      "Successfully installed gensim-3.7.3\n"
     ]
    }
   ],
   "source": [
    "!pip install gensim==3.7.3"
   ]
  },
  {
   "cell_type": "code",
   "execution_count": null,
   "metadata": {
    "colab": {
     "base_uri": "https://localhost:8080/",
     "height": 139
    },
    "colab_type": "code",
    "executionInfo": {
     "elapsed": 32680,
     "status": "ok",
     "timestamp": 1585021044154,
     "user": {
      "displayName": "ICLR anonymous_authors",
      "photoUrl": "",
      "userId": "00874876402563127221"
     },
     "user_tz": -540
    },
    "id": "x1zkjzv9PuzD",
    "outputId": "c85237d0-e2d8-47b7-8b73-e446dd647cd5"
   },
   "outputs": [],
   "source": [
    "import sys\n",
    "try: # Colab\n",
    "    from google.colab import drive\n",
    "    drive.mount('/content/gdrive')\n",
    "    %cd /content/gdrive/My Drive/word_attribute_transfer/notebooks\n",
    "    sys.path.append('/content/gdrive/My Drive/word_attribute_transfer/src/reflection_based_transfer')\n",
    "    # Setthing for Colab\n",
    "    gpu = -1\n",
    "    path_dataset = '/content/gdrive/My Drive/word_attribute_transfer/data/dataset' \n",
    "    path_w2v = '/content/gdrive/My Drive/word_attribute_transfer/data/word2vec/GoogleNews-vectors-negative300.bin' \n",
    "    path_glv = '/content/gdrive/My Drive/word_attribute_transfer/data/glove/glove.42B.300d_gensim.txt'\n",
    "    path_model_w2v = '/content/gdrive/My Drive/word_attribute_transfer/demos/models_word2vec'\n",
    "    path_model_glv = '/content/gdrive/My Drive/word_attribute_transfer/demos/models_glove'\n",
    "    print('Colab')\n",
    "    \n",
    "except: # Local\n",
    "    sys.path.append('../src/reflection_based_transfer')\n",
    "    gpu = -1\n",
    "    path_dataset = '../data/dataset'\n",
    "    path_w2v = '../data/word2vec/GoogleNews-vectors-negative300.bin'\n",
    "    path_glv = '../data/glove/glove.42B.300d_gensim.txt'\n",
    "    path_model_w2v = 'models_word2vec'\n",
    "    path_model_glv = 'models_glove'\n",
    "    print('Local')\n",
    "    \n",
    "import gensim\n",
    "import demo"
   ]
  },
  {
   "cell_type": "markdown",
   "metadata": {
    "colab_type": "text",
    "id": "O4LlonIYPuzH"
   },
   "source": [
    "# Load pre-trained word embeddings"
   ]
  },
  {
   "cell_type": "code",
   "execution_count": 2,
   "metadata": {
    "colab": {
     "base_uri": "https://localhost:8080/",
     "height": 105
    },
    "colab_type": "code",
    "executionInfo": {
     "elapsed": 595370,
     "status": "ok",
     "timestamp": 1585021639538,
     "user": {
      "displayName": "ICLR anonymous_authors",
      "photoUrl": "",
      "userId": "00874876402563127221"
     },
     "user_tz": -540
    },
    "id": "W8aFfwqdPuzI",
    "outputId": "35b0c46c-726d-42af-daa6-8be682490744"
   },
   "outputs": [
    {
     "name": "stdout",
     "output_type": "stream",
     "text": [
      "CPU times: user 9min 23s, sys: 10.3 s, total: 9min 33s\n",
      "Wall time: 9min 48s\n"
     ]
    }
   ],
   "source": [
    "def load(embedding):\n",
    "    if embedding == 'word2vec':\n",
    "        return gensim.models.KeyedVectors.load_word2vec_format(path_w2v, binary=True)\n",
    "    elif embedding == 'glove':\n",
    "        return gensim.models.KeyedVectors.load_word2vec_format(path_glv)\n",
    "\n",
    "embedding = 'glove'\n",
    "%time word2vec = load(embedding)"
   ]
  },
  {
   "cell_type": "markdown",
   "metadata": {
    "colab_type": "text",
    "id": "QhV2bUYAPuzL"
   },
   "source": [
    "# Set up demo"
   ]
  },
  {
   "cell_type": "code",
   "execution_count": 3,
   "metadata": {
    "colab": {},
    "colab_type": "code",
    "id": "ffos_j5fPuzM"
   },
   "outputs": [],
   "source": [
    "f = demo.Demo(word2vec)\n",
    "models = {}\n",
    "if embedding=='glove':\n",
    "    path_model = path_model_glv\n",
    "elif embedding=='word2vec':\n",
    "    path_model = path_model_w2v"
   ]
  },
  {
   "cell_type": "markdown",
   "metadata": {
    "colab_type": "text",
    "id": "b7bvdqPzWjVL"
   },
   "source": [
    "# Laod trained models"
   ]
  },
  {
   "cell_type": "markdown",
   "metadata": {
    "colab_type": "text",
    "id": "MeR5tJG5PuzQ"
   },
   "source": [
    "### Male-Female models"
   ]
  },
  {
   "cell_type": "code",
   "execution_count": 4,
   "metadata": {
    "colab": {},
    "colab_type": "code",
    "id": "-eBHl6hbPuzQ"
   },
   "outputs": [],
   "source": [
    "models['Ref_MF'] = f.get_model(path_setting = '{}/Ref_male_female/evaluation_results.json'.format(path_model),\n",
    "                               path_netdir = '{}/Ref_male_female'.format(path_model))\n",
    "models['Ref+PM_MF'] = f.get_model(path_setting = '{}/Ref+PM_male_female/evaluation_results.json'.format(path_model),\n",
    "                                  path_netdir = '{}/Ref+PM_male_female'.format(path_model))\n",
    "models['Diff+_MF'] = f.get_analogy(path_setting = '{}/Diff+_male_female/evaluation_results.json'.format(path_model))\n",
    "models['Diff-_MF'] = f.get_analogy(path_setting = '{}/Diff-_male_female/evaluation_results.json'.format(path_model))"
   ]
  },
  {
   "cell_type": "markdown",
   "metadata": {
    "colab_type": "text",
    "id": "DIXISpP7PuzS"
   },
   "source": [
    "### Singular-Plural models"
   ]
  },
  {
   "cell_type": "code",
   "execution_count": 5,
   "metadata": {
    "colab": {},
    "colab_type": "code",
    "id": "32nEFFfNnBeS"
   },
   "outputs": [],
   "source": [
    "models['Ref_SP'] = f.get_model(path_setting = '{}/Ref_singular_plural/evaluation_results.json'.format(path_model),\n",
    "                               path_netdir = '{}/Ref_singular_plural'.format(path_model))\n",
    "models['Ref+PM_SP'] = f.get_model(path_setting = '{}/Ref+PM_singular_plural/evaluation_results.json'.format(path_model),\n",
    "                                  path_netdir = '{}/Ref+PM_singular_plural'.format(path_model))\n",
    "models['Diff+_SP'] = f.get_analogy(path_setting = '{}/Diff+_singular_plural/evaluation_results.json'.format(path_model))\n",
    "models['Diff-_SP'] = f.get_analogy(path_setting = '{}/Diff-_singular_plural/evaluation_results.json'.format(path_model))"
   ]
  },
  {
   "cell_type": "markdown",
   "metadata": {
    "colab_type": "text",
    "id": "dgAeO7QIPuzV"
   },
   "source": [
    "### Caplital-Country models"
   ]
  },
  {
   "cell_type": "code",
   "execution_count": 6,
   "metadata": {
    "colab": {},
    "colab_type": "code",
    "id": "beiNiuANPuzV"
   },
   "outputs": [],
   "source": [
    "models['Ref_CC'] = f.get_model(path_setting = '{}/Ref_capital_country/evaluation_results.json'.format(path_model),\n",
    "                               path_netdir = '{}/Ref_capital_country'.format(path_model))\n",
    "models['Ref+PM_CC'] = f.get_model(path_setting = '{}/Ref+PM_capital_country/evaluation_results.json'.format(path_model),\n",
    "                                  path_netdir = '{}/Ref+PM_capital_country'.format(path_model))\n",
    "models['Diff+_CC'] = f.get_analogy(path_setting = '{}/Diff+_capital_country/evaluation_results.json'.format(path_model))\n",
    "models['Diff-_CC'] = f.get_analogy(path_setting = '{}/Diff-_capital_country/evaluation_results.json'.format(path_model))"
   ]
  },
  {
   "cell_type": "markdown",
   "metadata": {
    "colab_type": "text",
    "id": "V7HRRJ4rfUJ6"
   },
   "source": [
    "### Antonym models"
   ]
  },
  {
   "cell_type": "code",
   "execution_count": 7,
   "metadata": {
    "colab": {},
    "colab_type": "code",
    "id": "bqFI3Q7rfUJ8"
   },
   "outputs": [],
   "source": [
    "models['Ref_AN'] = f.get_model(path_setting = '{}/Ref_antonym_noun/evaluation_results.json'.format(path_model),\n",
    "                               path_netdir = '{}/Ref_antonym_noun'.format(path_model))\n",
    "models['Ref+PM_AN'] = f.get_model(path_setting = '{}/Ref+PM_antonym_noun/evaluation_results.json'.format(path_model),\n",
    "                                  path_netdir = '{}/Ref+PM_antonym_noun'.format(path_model))"
   ]
  },
  {
   "cell_type": "markdown",
   "metadata": {
    "colab_type": "text",
    "id": "fyP53LtSPuzX"
   },
   "source": [
    "# Word Attribute Transfer\n",
    "- **Args:** \n",
    "    - **words (str)**: words joined with white spaces (e.g. 'He is a boy .')\n",
    "    - **attribute ID (int)**: target attribute $\\textbf{z}$\n",
    "        - In our experiment, $\\textbf{z}$ is zero for the four attributes since each models was learned to transfer only one attribute.\n",
    "    - **model**: model instance (e.g. models['Ref+PM_MF'])\n",
    "    - **show (bool)** [optional]: show the input and the output (default is True)\n",
    "- **Return:**\n",
    "    - **words (str)**: transferred words (e.g. 'She is a girl .')\n",
    "\n",
    "___\n",
    "## 1. Male-Female"
   ]
  },
  {
   "cell_type": "code",
   "execution_count": 8,
   "metadata": {
    "colab": {},
    "colab_type": "code",
    "id": "5i1aTLxJPuzY"
   },
   "outputs": [],
   "source": [
    "words = 'the woman got married when you were a boy .'\n",
    "z = 0"
   ]
  },
  {
   "cell_type": "markdown",
   "metadata": {
    "colab_type": "text",
    "id": "WgGRSDaTPuza"
   },
   "source": [
    "#### Ref\n",
    "  - proposed method: reflection-based word attribute transfer with a **single mirror**"
   ]
  },
  {
   "cell_type": "code",
   "execution_count": 9,
   "metadata": {
    "colab": {
     "base_uri": "https://localhost:8080/",
     "height": 85
    },
    "colab_type": "code",
    "executionInfo": {
     "elapsed": 9506,
     "status": "ok",
     "timestamp": 1585021678958,
     "user": {
      "displayName": "ICLR anonymous_authors",
      "photoUrl": "",
      "userId": "00874876402563127221"
     },
     "user_tz": -540
    },
    "id": "RyzITpdLPuzb",
    "outputId": "3c54061b-ae3c-4a83-bc2f-5b1ce455b592"
   },
   "outputs": [
    {
     "name": "stdout",
     "output_type": "stream",
     "text": [
      "Input:\tthe woman got married when you were a boy .\n",
      "Output:\tthe woman got married when you were a boy .\n",
      "------------------------------------------------------------------------------\n",
      "\n"
     ]
    }
   ],
   "source": [
    "_ = f(words, z, models['Ref_MF'])"
   ]
  },
  {
   "cell_type": "markdown",
   "metadata": {
    "colab_type": "text",
    "id": "9rJxjIFqPuzc"
   },
   "source": [
    "#### Ref+PM\n",
    "  - proposed method: reflection-based word attribute transfer with **paramterized mirrors**"
   ]
  },
  {
   "cell_type": "code",
   "execution_count": 10,
   "metadata": {
    "colab": {
     "base_uri": "https://localhost:8080/",
     "height": 85
    },
    "colab_type": "code",
    "executionInfo": {
     "elapsed": 2897,
     "status": "ok",
     "timestamp": 1585021686331,
     "user": {
      "displayName": "ICLR anonymous_authors",
      "photoUrl": "",
      "userId": "00874876402563127221"
     },
     "user_tz": -540
    },
    "id": "7Gi1hLp8Puzd",
    "outputId": "0736e614-c0c9-4c0b-ca2f-c17a79cf96d0"
   },
   "outputs": [
    {
     "name": "stdout",
     "output_type": "stream",
     "text": [
      "Input:\tthe woman got married when you were a boy .\n",
      "Output:\tthe man got married when you were a girl .\n",
      "------------------------------------------------------------------------------\n",
      "\n"
     ]
    }
   ],
   "source": [
    "_ = f(words, z, models['Ref+PM_MF'])"
   ]
  },
  {
   "cell_type": "markdown",
   "metadata": {
    "colab_type": "text",
    "id": "YlxN8FLnPuzk"
   },
   "source": [
    "#### Diff$^+$\n",
    "  - analogy-based word attribute transfer\n",
    "  - **add** a difference vector to any input word vectors"
   ]
  },
  {
   "cell_type": "code",
   "execution_count": 11,
   "metadata": {
    "colab": {
     "base_uri": "https://localhost:8080/",
     "height": 85
    },
    "colab_type": "code",
    "executionInfo": {
     "elapsed": 2753,
     "status": "ok",
     "timestamp": 1585021699567,
     "user": {
      "displayName": "ICLR anonymous_authors",
      "photoUrl": "",
      "userId": "00874876402563127221"
     },
     "user_tz": -540
    },
    "id": "q8bXHpgWPuzk",
    "outputId": "b0905579-101c-41b6-e309-134b11bc1edc"
   },
   "outputs": [
    {
     "name": "stdout",
     "output_type": "stream",
     "text": [
      "Input:\tthe woman got married when you were a boy .\n",
      "Output:\tthe man got married when you were a boy .\n",
      "------------------------------------------------------------------------------\n",
      "\n"
     ]
    }
   ],
   "source": [
    "_ = f(words, z, models['Diff+_MF'])"
   ]
  },
  {
   "cell_type": "markdown",
   "metadata": {
    "colab_type": "text",
    "id": "UrNLqL7SPuzm"
   },
   "source": [
    "#### Diff$^-$\n",
    "  - analogy-based word attribute transfer\n",
    "  - **subtract** a difference vector to any input word vectors"
   ]
  },
  {
   "cell_type": "code",
   "execution_count": 12,
   "metadata": {
    "colab": {
     "base_uri": "https://localhost:8080/",
     "height": 85
    },
    "colab_type": "code",
    "executionInfo": {
     "elapsed": 2861,
     "status": "ok",
     "timestamp": 1585021704252,
     "user": {
      "displayName": "ICLR anonymous_authors",
      "photoUrl": "",
      "userId": "00874876402563127221"
     },
     "user_tz": -540
    },
    "id": "GV8HZQPSPuzn",
    "outputId": "ea9ec303-bccd-49bb-a120-b7a7390904e3"
   },
   "outputs": [
    {
     "name": "stdout",
     "output_type": "stream",
     "text": [
      "Input:\tthe woman got married when you were a boy .\n",
      "Output:\tthe man got married when you were a boy .\n",
      "------------------------------------------------------------------------------\n",
      "\n"
     ]
    }
   ],
   "source": [
    "_ = f(words, z, models['Diff-_MF'])"
   ]
  },
  {
   "cell_type": "markdown",
   "metadata": {
    "colab_type": "text",
    "id": "0OpIg5wGPuzt"
   },
   "source": [
    "---\n",
    "## 2. Singular-Plural"
   ]
  },
  {
   "cell_type": "code",
   "execution_count": 13,
   "metadata": {
    "colab": {},
    "colab_type": "code",
    "id": "2-wt1I8bPuzv"
   },
   "outputs": [],
   "source": [
    "words = 'i want to sell my bikes and buy the bike .'\n",
    "z = 0"
   ]
  },
  {
   "cell_type": "markdown",
   "metadata": {
    "colab_type": "text",
    "id": "qIGwyMTVPuzy"
   },
   "source": [
    "#### Ref"
   ]
  },
  {
   "cell_type": "code",
   "execution_count": 14,
   "metadata": {
    "colab": {
     "base_uri": "https://localhost:8080/",
     "height": 85
    },
    "colab_type": "code",
    "executionInfo": {
     "elapsed": 3061,
     "status": "ok",
     "timestamp": 1585021712341,
     "user": {
      "displayName": "ICLR anonymous_authors",
      "photoUrl": "",
      "userId": "00874876402563127221"
     },
     "user_tz": -540
    },
    "id": "-smw8uKYPuzz",
    "outputId": "03cbd782-1233-406c-ec21-66749a707c01"
   },
   "outputs": [
    {
     "name": "stdout",
     "output_type": "stream",
     "text": [
      "Input:\ti want to sell my bikes and buy the bike .\n",
      "Output:\ti want to sell my bikes and buy the bike .\n",
      "------------------------------------------------------------------------------\n",
      "\n"
     ]
    }
   ],
   "source": [
    "_ = f(words, z, models['Ref_SP'])"
   ]
  },
  {
   "cell_type": "markdown",
   "metadata": {
    "colab_type": "text",
    "id": "kcYvrjSpPuz1"
   },
   "source": [
    "#### Ref+PM"
   ]
  },
  {
   "cell_type": "code",
   "execution_count": 15,
   "metadata": {
    "colab": {
     "base_uri": "https://localhost:8080/",
     "height": 85
    },
    "colab_type": "code",
    "executionInfo": {
     "elapsed": 3031,
     "status": "ok",
     "timestamp": 1585021718588,
     "user": {
      "displayName": "ICLR anonymous_authors",
      "photoUrl": "",
      "userId": "00874876402563127221"
     },
     "user_tz": -540
    },
    "id": "EpZjkrbXPuz1",
    "outputId": "51c689c6-6b39-44d9-b882-20fa842abd80"
   },
   "outputs": [
    {
     "name": "stdout",
     "output_type": "stream",
     "text": [
      "Input:\ti want to sell my bikes and buy the bike .\n",
      "Output:\ti want to sell my bike and buy the bikes .\n",
      "------------------------------------------------------------------------------\n",
      "\n"
     ]
    }
   ],
   "source": [
    "_ = f(words, z, models['Ref+PM_SP'])"
   ]
  },
  {
   "cell_type": "markdown",
   "metadata": {
    "colab_type": "text",
    "id": "Xn7atNiPPuz8"
   },
   "source": [
    "#### Diff$^+$"
   ]
  },
  {
   "cell_type": "code",
   "execution_count": 16,
   "metadata": {
    "colab": {
     "base_uri": "https://localhost:8080/",
     "height": 85
    },
    "colab_type": "code",
    "executionInfo": {
     "elapsed": 5510,
     "status": "ok",
     "timestamp": 1585021729017,
     "user": {
      "displayName": "ICLR anonymous_authors",
      "photoUrl": "",
      "userId": "00874876402563127221"
     },
     "user_tz": -540
    },
    "id": "774isLJ8Puz9",
    "outputId": "5730d9f8-516a-4282-938a-0d03f59755da"
   },
   "outputs": [
    {
     "name": "stdout",
     "output_type": "stream",
     "text": [
      "Input:\ti want to sell my bikes and buy the bike .\n",
      "Output:\ti want to sell my bikes and buy the bike .\n",
      "------------------------------------------------------------------------------\n",
      "\n"
     ]
    }
   ],
   "source": [
    "_ = f(words, z, models['Diff+_SP'])"
   ]
  },
  {
   "cell_type": "markdown",
   "metadata": {
    "colab_type": "text",
    "id": "StoiTvzMPuz_"
   },
   "source": [
    "#### Diff$^-$"
   ]
  },
  {
   "cell_type": "code",
   "execution_count": 17,
   "metadata": {
    "colab": {
     "base_uri": "https://localhost:8080/",
     "height": 85
    },
    "colab_type": "code",
    "executionInfo": {
     "elapsed": 7360,
     "status": "ok",
     "timestamp": 1585021731118,
     "user": {
      "displayName": "ICLR anonymous_authors",
      "photoUrl": "",
      "userId": "00874876402563127221"
     },
     "user_tz": -540
    },
    "id": "ezNr-wAMPu0A",
    "outputId": "bee06e0b-4cb6-4f38-d945-1a29e6a8c214"
   },
   "outputs": [
    {
     "name": "stdout",
     "output_type": "stream",
     "text": [
      "Input:\ti want to sell my bikes and buy the bike .\n",
      "Output:\ti want to sell my bikes and buy the bike .\n",
      "------------------------------------------------------------------------------\n",
      "\n"
     ]
    }
   ],
   "source": [
    "_ = f(words, z, models['Diff-_SP'])"
   ]
  },
  {
   "cell_type": "markdown",
   "metadata": {
    "colab_type": "text",
    "id": "13c0DX9lPu0F"
   },
   "source": [
    "---\n",
    "## 3. Capital-Country"
   ]
  },
  {
   "cell_type": "code",
   "execution_count": 18,
   "metadata": {
    "colab": {},
    "colab_type": "code",
    "id": "zdkOaKW0Pu0F"
   },
   "outputs": [],
   "source": [
    "words = 'does your aunt live in japan or norway ?'\n",
    "z = 0"
   ]
  },
  {
   "cell_type": "markdown",
   "metadata": {
    "colab_type": "text",
    "id": "97gulabrPu0G"
   },
   "source": [
    "#### Ref"
   ]
  },
  {
   "cell_type": "code",
   "execution_count": 19,
   "metadata": {
    "colab": {
     "base_uri": "https://localhost:8080/",
     "height": 85
    },
    "colab_type": "code",
    "executionInfo": {
     "elapsed": 9006,
     "status": "ok",
     "timestamp": 1585021733128,
     "user": {
      "displayName": "ICLR anonymous_authors",
      "photoUrl": "",
      "userId": "00874876402563127221"
     },
     "user_tz": -540
    },
    "id": "bYNrI9tpPu0H",
    "outputId": "a523e07f-65e4-40fe-9b8a-e1715c16f584"
   },
   "outputs": [
    {
     "name": "stdout",
     "output_type": "stream",
     "text": [
      "Input:\tdoes your aunt live in japan or norway ?\n",
      "Output:\tdoes your aunt live in japan or norway ?\n",
      "------------------------------------------------------------------------------\n",
      "\n"
     ]
    }
   ],
   "source": [
    "_ = f(words, z, models['Ref_CC'])"
   ]
  },
  {
   "cell_type": "markdown",
   "metadata": {
    "colab_type": "text",
    "id": "5RRAVXxaPu0J"
   },
   "source": [
    "#### Ref+PM"
   ]
  },
  {
   "cell_type": "code",
   "execution_count": 20,
   "metadata": {
    "colab": {
     "base_uri": "https://localhost:8080/",
     "height": 85
    },
    "colab_type": "code",
    "executionInfo": {
     "elapsed": 10886,
     "status": "ok",
     "timestamp": 1585021735179,
     "user": {
      "displayName": "ICLR anonymous_authors",
      "photoUrl": "",
      "userId": "00874876402563127221"
     },
     "user_tz": -540
    },
    "id": "UQsbUSrZPu0J",
    "outputId": "7d48036f-6300-499a-eb0e-db5932ab8894"
   },
   "outputs": [
    {
     "name": "stdout",
     "output_type": "stream",
     "text": [
      "Input:\tdoes your aunt live in japan or norway ?\n",
      "Output:\tdoes your aunt live in tokyo or oslo ?\n",
      "------------------------------------------------------------------------------\n",
      "\n"
     ]
    }
   ],
   "source": [
    "_ = f(words, z, models['Ref+PM_CC'])"
   ]
  },
  {
   "cell_type": "markdown",
   "metadata": {
    "colab_type": "text",
    "id": "HpPD0QaZPu0R"
   },
   "source": [
    "#### Diff$^+$"
   ]
  },
  {
   "cell_type": "code",
   "execution_count": 21,
   "metadata": {
    "colab": {
     "base_uri": "https://localhost:8080/",
     "height": 85
    },
    "colab_type": "code",
    "executionInfo": {
     "elapsed": 14334,
     "status": "ok",
     "timestamp": 1585021739070,
     "user": {
      "displayName": "ICLR anonymous_authors",
      "photoUrl": "",
      "userId": "00874876402563127221"
     },
     "user_tz": -540
    },
    "id": "ra9ls6i6Pu0S",
    "outputId": "3271ce83-619d-4796-fbb0-975d9e98cb29"
   },
   "outputs": [
    {
     "name": "stdout",
     "output_type": "stream",
     "text": [
      "Input:\tdoes your aunt live in japan or norway ?\n",
      "Output:\tdoes your aunt live in japan or norway ?\n",
      "------------------------------------------------------------------------------\n",
      "\n"
     ]
    }
   ],
   "source": [
    "_ = f(words, z, models['Diff+_CC'])"
   ]
  },
  {
   "cell_type": "markdown",
   "metadata": {
    "colab_type": "text",
    "id": "zNOdEbQ1Pu0V"
   },
   "source": [
    "#### Diff$^-$"
   ]
  },
  {
   "cell_type": "code",
   "execution_count": 22,
   "metadata": {
    "colab": {
     "base_uri": "https://localhost:8080/",
     "height": 85
    },
    "colab_type": "code",
    "executionInfo": {
     "elapsed": 16150,
     "status": "ok",
     "timestamp": 1585021741018,
     "user": {
      "displayName": "ICLR anonymous_authors",
      "photoUrl": "",
      "userId": "00874876402563127221"
     },
     "user_tz": -540
    },
    "id": "1hEzU2yXPu0V",
    "outputId": "aeb6bf4c-a231-4122-e91f-7df7304c928e"
   },
   "outputs": [
    {
     "name": "stdout",
     "output_type": "stream",
     "text": [
      "Input:\tdoes your aunt live in japan or norway ?\n",
      "Output:\tdoes your aunt live in japan or norway ?\n",
      "------------------------------------------------------------------------------\n",
      "\n"
     ]
    }
   ],
   "source": [
    "_ = f(words, z, models['Diff-_CC'])"
   ]
  },
  {
   "cell_type": "markdown",
   "metadata": {
    "colab_type": "text",
    "id": "rMPwju6AfUL8"
   },
   "source": [
    "---\n",
    "## 4. Antonym"
   ]
  },
  {
   "cell_type": "code",
   "execution_count": 23,
   "metadata": {
    "colab": {},
    "colab_type": "code",
    "id": "U0IYMSkifUL9"
   },
   "outputs": [],
   "source": [
    "words = 'in the past , even though i was poor , i had a rich spirit .'\n",
    "z = 0"
   ]
  },
  {
   "cell_type": "markdown",
   "metadata": {
    "colab_type": "text",
    "id": "m4Be3RN5fUMD"
   },
   "source": [
    "#### Ref"
   ]
  },
  {
   "cell_type": "code",
   "execution_count": 24,
   "metadata": {
    "colab": {
     "base_uri": "https://localhost:8080/",
     "height": 85
    },
    "colab_type": "code",
    "executionInfo": {
     "elapsed": 19210,
     "status": "ok",
     "timestamp": 1585021744467,
     "user": {
      "displayName": "ICLR anonymous_authors",
      "photoUrl": "",
      "userId": "00874876402563127221"
     },
     "user_tz": -540
    },
    "id": "UoNRsdWwfUME",
    "outputId": "cd684ec5-1dd7-4a46-a7f4-2f1342deb94d"
   },
   "outputs": [
    {
     "name": "stdout",
     "output_type": "stream",
     "text": [
      "Input:\tin the past , even though i was poor , i had a rich spirit .\n",
      "Output:\tin the past , even though i was poor , i had a rich spirit .\n",
      "------------------------------------------------------------------------------\n",
      "\n"
     ]
    }
   ],
   "source": [
    "_ = f(words, z, models['Ref_AN'])"
   ]
  },
  {
   "cell_type": "markdown",
   "metadata": {
    "colab_type": "text",
    "id": "e_X55Tf9fUMG"
   },
   "source": [
    "#### Ref+PM"
   ]
  },
  {
   "cell_type": "code",
   "execution_count": 25,
   "metadata": {
    "colab": {
     "base_uri": "https://localhost:8080/",
     "height": 85
    },
    "colab_type": "code",
    "executionInfo": {
     "elapsed": 22534,
     "status": "ok",
     "timestamp": 1585021747939,
     "user": {
      "displayName": "ICLR anonymous_authors",
      "photoUrl": "",
      "userId": "00874876402563127221"
     },
     "user_tz": -540
    },
    "id": "-tKXn8uNfUMH",
    "outputId": "fa15c5a6-318c-40df-fe9e-248ebebd550d"
   },
   "outputs": [
    {
     "name": "stdout",
     "output_type": "stream",
     "text": [
      "Input:\tin the past , even though i was poor , i had a rich spirit .\n",
      "Output:\tin the future , even though i was rich , i had a poor spirit .\n",
      "------------------------------------------------------------------------------\n",
      "\n"
     ]
    }
   ],
   "source": [
    "_ = f(words, z, models['Ref+PM_AN'])"
   ]
  },
  {
   "cell_type": "markdown",
   "metadata": {
    "colab_type": "text",
    "id": "XRaH4m9wPu0Y"
   },
   "source": [
    "## Transfer Word Attributes\n",
    "- male-female $\\longrightarrow$ singular-plural $\\longrightarrow$ capital-country $\\longrightarrow$ antonym"
   ]
  },
  {
   "cell_type": "code",
   "execution_count": 26,
   "metadata": {
    "colab": {},
    "colab_type": "code",
    "id": "3o_JebyBPu0Y"
   },
   "outputs": [],
   "source": [
    "words = 'the poor actor and the rich actress want to visit the beautiful city in tokyo .'"
   ]
  },
  {
   "cell_type": "code",
   "execution_count": 27,
   "metadata": {
    "colab": {
     "base_uri": "https://localhost:8080/",
     "height": 357
    },
    "colab_type": "code",
    "executionInfo": {
     "elapsed": 39678,
     "status": "ok",
     "timestamp": 1585021765491,
     "user": {
      "displayName": "ICLR anonymous_authors",
      "photoUrl": "",
      "userId": "00874876402563127221"
     },
     "user_tz": -540
    },
    "id": "kvXB9yljPu0a",
    "outputId": "0a9521ca-a54d-4e11-ac78-944e8686fe4a"
   },
   "outputs": [
    {
     "name": "stdout",
     "output_type": "stream",
     "text": [
      "Male-Female\n",
      "Input:\tthe poor actor and the rich actress want to visit the beautiful city in tokyo .\n",
      "Output:\tthe poor actress and the rich actor want to visit the beautiful city in tokyo .\n",
      "------------------------------------------------------------------------------\n",
      "\n",
      "Singlar-Plural\n",
      "Input:\tthe poor actress and the rich actor want to visit the beautiful city in tokyo .\n",
      "Output:\tthe poor actresses and the rich actors want to visit the beautiful cities in tokyo .\n",
      "------------------------------------------------------------------------------\n",
      "\n",
      "Capital-Country\n",
      "Input:\tthe poor actresses and the rich actors want to visit the beautiful cities in tokyo .\n",
      "Output:\tthe poor actresses and the rich actors want to visit the beautiful cities in japan .\n",
      "------------------------------------------------------------------------------\n",
      "\n",
      "Antonym\n",
      "Input:\tthe poor actresses and the rich actors want to visit the beautiful cities in japan .\n",
      "Output:\tthe rich actresses and the poor actors want to visit the beautiful cities in japan .\n",
      "------------------------------------------------------------------------------\n",
      "\n"
     ]
    }
   ],
   "source": [
    "print('Male-Female')\n",
    "words = f(words, 0, models['Ref+PM_MF']) # Male-Female\n",
    "print('Singlar-Plural')\n",
    "words = f(words, 0, models['Ref+PM_SP']) # Singular-Plural\n",
    "print('Capital-Country')\n",
    "words = f(words, 0, models['Ref+PM_CC']) # Capital-Country\n",
    "print('Antonym')\n",
    "words = f(words, 0, models['Ref+PM_AN']) # Antonym"
   ]
  },
  {
   "cell_type": "code",
   "execution_count": 28,
   "metadata": {
    "colab": {},
    "colab_type": "code",
    "id": "b-zGvfsqnBf_"
   },
   "outputs": [],
   "source": [
    "def comp(words):\n",
    "    print('\\n=== Ref+PM ===')\n",
    "    print('Male-Female')\n",
    "    _ = f(words, 0, models['Ref+PM_MF']) # Male-Female\n",
    "    print('Singlar-Plural')\n",
    "    _ = f(words, 0, models['Ref+PM_SP']) # Singular-Plural \n",
    "    # (Ref+PM_SP is trained only from singular-noun and plural-noun)\n",
    "    print('Capital-Country')\n",
    "    _ = f(words, 0, models['Ref+PM_CC']) # Capital-Country\n",
    "    print('Antonym')\n",
    "    _ = f(words, 0, models['Ref+PM_AN']) # Antonym\n",
    "    \n",
    "    print('\\n=== Diff+ ===')\n",
    "    print('Male-Female')\n",
    "    _ = f(words, 0, models['Diff+_MF']) # Male-Female\n",
    "    print('Singlar-Plural')\n",
    "    _ = f(words, 0, models['Diff+_SP']) # Singular-Plural \n",
    "    print('Capital-Country')\n",
    "    _ = f(words, 0, models['Diff+_CC']) # Capital-Country\n",
    "    \n",
    "    print('\\n=== Diff- ===')\n",
    "    print('Male-Female')\n",
    "    _ = f(words, 0, models['Diff-_MF']) # Male-Female\n",
    "    print('Singlar-Plural')\n",
    "    _ = f(words, 0, models['Diff-_SP']) # Singular-Plural \n",
    "    print('Capital-Country')\n",
    "    _ = f(words, 0, models['Diff-_CC']) # Capital-Country"
   ]
  },
  {
   "cell_type": "code",
   "execution_count": 29,
   "metadata": {
    "colab": {
     "base_uri": "https://localhost:8080/",
     "height": 1000
    },
    "colab_type": "code",
    "executionInfo": {
     "elapsed": 87652,
     "status": "ok",
     "timestamp": 1585021813719,
     "user": {
      "displayName": "ICLR anonymous_authors",
      "photoUrl": "",
      "userId": "00874876402563127221"
     },
     "user_tz": -540
    },
    "id": "15qbnYBsfUMj",
    "outputId": "14ad59e2-7a3c-41a1-dc4a-19e5ee6c9c64"
   },
   "outputs": [
    {
     "name": "stdout",
     "output_type": "stream",
     "text": [
      "\n",
      "=== Ref+PM ===\n",
      "Male-Female\n",
      "Input:\tin the past , even though i was poor , i had a rich spirit .\n",
      "Output:\tin the past , even though i was poor , i had a rich spirit .\n",
      "------------------------------------------------------------------------------\n",
      "\n",
      "Singlar-Plural\n",
      "Input:\tin the past , even though i was poor , i had a rich spirit .\n",
      "Output:\tin the past , even though i were poor , i had a rich spirit .\n",
      "------------------------------------------------------------------------------\n",
      "\n",
      "Capital-Country\n",
      "Input:\tin the past , even though i was poor , i had a rich spirit .\n",
      "Output:\tin the past , even though i was poor , i had a rich spirit .\n",
      "------------------------------------------------------------------------------\n",
      "\n",
      "Antonym\n",
      "Input:\tin the past , even though i was poor , i had a rich spirit .\n",
      "Output:\tin the future , even though i was rich , i had a poor spirit .\n",
      "------------------------------------------------------------------------------\n",
      "\n",
      "\n",
      "=== Diff+ ===\n",
      "Male-Female\n",
      "Input:\tin the past , even though i was poor , i had a rich spirit .\n",
      "Output:\tin the past , even though i was poor , i had a rich spirit .\n",
      "------------------------------------------------------------------------------\n",
      "\n",
      "Singlar-Plural\n",
      "Input:\tin the past , even though i was poor , i had a rich spirit .\n",
      "Output:\tin the past , even though i was poor , i had a rich spirit .\n",
      "------------------------------------------------------------------------------\n",
      "\n",
      "Capital-Country\n",
      "Input:\tin the past , even though i was poor , i had a rich spirit .\n",
      "Output:\tin the past , even though i was poor , i had a rich spirit .\n",
      "------------------------------------------------------------------------------\n",
      "\n",
      "\n",
      "=== Diff- ===\n",
      "Male-Female\n",
      "Input:\tin the past , even though i was poor , i had a rich spirit .\n",
      "Output:\tin the past , even though i was poor , i had a rich spirit .\n",
      "------------------------------------------------------------------------------\n",
      "\n",
      "Singlar-Plural\n",
      "Input:\tin the past , even though i was poor , i had a rich spirit .\n",
      "Output:\tin the past , even though i was poor , i had a rich spirit .\n",
      "------------------------------------------------------------------------------\n",
      "\n",
      "Capital-Country\n",
      "Input:\tin the past , even though i was poor , i had a rich spirit .\n",
      "Output:\tin the past , even though i was poor , i had a rich spirit .\n",
      "------------------------------------------------------------------------------\n",
      "\n"
     ]
    }
   ],
   "source": [
    "comp('in the past , even though i was poor , i had a rich spirit .')"
   ]
  },
  {
   "cell_type": "code",
   "execution_count": 30,
   "metadata": {
    "colab": {
     "base_uri": "https://localhost:8080/",
     "height": 1000
    },
    "colab_type": "code",
    "executionInfo": {
     "elapsed": 114592,
     "status": "ok",
     "timestamp": 1585021840737,
     "user": {
      "displayName": "ICLR anonymous_authors",
      "photoUrl": "",
      "userId": "00874876402563127221"
     },
     "user_tz": -540
    },
    "id": "URDcmf6AfUMl",
    "outputId": "2b045e72-50be-44a7-df4a-94e97d5b9f40"
   },
   "outputs": [
    {
     "name": "stdout",
     "output_type": "stream",
     "text": [
      "\n",
      "=== Ref+PM ===\n",
      "Male-Female\n",
      "Input:\tyes , he was stone , stone dead .\n",
      "Output:\tyes , she was stone , stone dead .\n",
      "------------------------------------------------------------------------------\n",
      "\n",
      "Singlar-Plural\n",
      "Input:\tyes , he was stone , stone dead .\n",
      "Output:\tyes , they were stone , stone dead .\n",
      "------------------------------------------------------------------------------\n",
      "\n",
      "Capital-Country\n",
      "Input:\tyes , he was stone , stone dead .\n",
      "Output:\tyes , he was stone , stone dead .\n",
      "------------------------------------------------------------------------------\n",
      "\n",
      "Antonym\n",
      "Input:\tyes , he was stone , stone dead .\n",
      "Output:\tno. , he was stone , stone living .\n",
      "------------------------------------------------------------------------------\n",
      "\n",
      "\n",
      "=== Diff+ ===\n",
      "Male-Female\n",
      "Input:\tyes , he was stone , stone dead .\n",
      "Output:\tyes , he was stone , stone dead .\n",
      "------------------------------------------------------------------------------\n",
      "\n",
      "Singlar-Plural\n",
      "Input:\tyes , he was stone , stone dead .\n",
      "Output:\tyes , he was stone , stone dead .\n",
      "------------------------------------------------------------------------------\n",
      "\n",
      "Capital-Country\n",
      "Input:\tyes , he was stone , stone dead .\n",
      "Output:\tyes , he was stone , stone dead .\n",
      "------------------------------------------------------------------------------\n",
      "\n",
      "\n",
      "=== Diff- ===\n",
      "Male-Female\n",
      "Input:\tyes , he was stone , stone dead .\n",
      "Output:\tyes , he was stone , stone dead .\n",
      "------------------------------------------------------------------------------\n",
      "\n",
      "Singlar-Plural\n",
      "Input:\tyes , he was stone , stone dead .\n",
      "Output:\tyes , he was stone , stone dead .\n",
      "------------------------------------------------------------------------------\n",
      "\n",
      "Capital-Country\n",
      "Input:\tyes , he was stone , stone dead .\n",
      "Output:\tyes , he was stone , stone dead .\n",
      "------------------------------------------------------------------------------\n",
      "\n"
     ]
    }
   ],
   "source": [
    "comp('yes , he was stone , stone dead .')"
   ]
  },
  {
   "cell_type": "code",
   "execution_count": 31,
   "metadata": {
    "colab": {
     "base_uri": "https://localhost:8080/",
     "height": 1000
    },
    "colab_type": "code",
    "executionInfo": {
     "elapsed": 181193,
     "status": "ok",
     "timestamp": 1585021907603,
     "user": {
      "displayName": "ICLR anonymous_authors",
      "photoUrl": "",
      "userId": "00874876402563127221"
     },
     "user_tz": -540
    },
    "id": "IXo38T67fUMt",
    "outputId": "ee0b30d8-5c24-44ae-9e96-b2ad68ef15b6"
   },
   "outputs": [
    {
     "name": "stdout",
     "output_type": "stream",
     "text": [
      "\n",
      "=== Ref+PM ===\n",
      "Male-Female\n",
      "Input:\tevery man is the architect of his own fortune .\n",
      "Output:\tevery woman is the architect of her own fortune .\n",
      "------------------------------------------------------------------------------\n",
      "\n",
      "Singlar-Plural\n",
      "Input:\tevery man is the architect of his own fortune .\n",
      "Output:\tevery men are the architect of their own fortune .\n",
      "------------------------------------------------------------------------------\n",
      "\n",
      "Capital-Country\n",
      "Input:\tevery man is the architect of his own fortune .\n",
      "Output:\tevery man is the architect of his own fortune .\n",
      "------------------------------------------------------------------------------\n",
      "\n",
      "Antonym\n",
      "Input:\tevery man is the architect of his own fortune .\n",
      "Output:\tevery beast is the architect of his own misfortune .\n",
      "------------------------------------------------------------------------------\n",
      "\n",
      "\n",
      "=== Diff+ ===\n",
      "Male-Female\n",
      "Input:\tevery man is the architect of his own fortune .\n",
      "Output:\tevery man is the architect of his own fortune .\n",
      "------------------------------------------------------------------------------\n",
      "\n",
      "Singlar-Plural\n",
      "Input:\tevery man is the architect of his own fortune .\n",
      "Output:\tevery man is the architect of his own fortune .\n",
      "------------------------------------------------------------------------------\n",
      "\n",
      "Capital-Country\n",
      "Input:\tevery man is the architect of his own fortune .\n",
      "Output:\tevery man is the architect of his own fortune .\n",
      "------------------------------------------------------------------------------\n",
      "\n",
      "\n",
      "=== Diff- ===\n",
      "Male-Female\n",
      "Input:\tevery man is the architect of his own fortune .\n",
      "Output:\tevery man is the architect of his own fortune .\n",
      "------------------------------------------------------------------------------\n",
      "\n",
      "Singlar-Plural\n",
      "Input:\tevery man is the architect of his own fortune .\n",
      "Output:\tevery man is the architect of his own fortune .\n",
      "------------------------------------------------------------------------------\n",
      "\n",
      "Capital-Country\n",
      "Input:\tevery man is the architect of his own fortune .\n",
      "Output:\tevery man is the architect of his own fortune .\n",
      "------------------------------------------------------------------------------\n",
      "\n"
     ]
    }
   ],
   "source": [
    "comp('every man is the architect of his own fortune .')"
   ]
  },
  {
   "cell_type": "code",
   "execution_count": 32,
   "metadata": {
    "colab": {
     "base_uri": "https://localhost:8080/",
     "height": 1000
    },
    "colab_type": "code",
    "executionInfo": {
     "elapsed": 363314,
     "status": "ok",
     "timestamp": 1585022092738,
     "user": {
      "displayName": "ICLR anonymous_authors",
      "photoUrl": "",
      "userId": "00874876402563127221"
     },
     "user_tz": -540
    },
    "id": "tyykOd_PnBgi",
    "outputId": "cb0bae87-42c4-4a97-e687-c5af8ca68c43"
   },
   "outputs": [
    {
     "name": "stdout",
     "output_type": "stream",
     "text": [
      "\n",
      "=== Ref+PM ===\n",
      "Male-Female\n",
      "Input:\tafter her marriage , ms. ogura lived in cairo .\n",
      "Output:\tafter his marriage , mr. ogura lived in cairo .\n",
      "------------------------------------------------------------------------------\n",
      "\n",
      "Singlar-Plural\n",
      "Input:\tafter her marriage , ms. ogura lived in cairo .\n",
      "Output:\tafter their marriage , ms. ogura lived in cairo .\n",
      "------------------------------------------------------------------------------\n",
      "\n",
      "Capital-Country\n",
      "Input:\tafter her marriage , ms. ogura lived in cairo .\n",
      "Output:\tafter her marriage , ms. ogura lived in egypt .\n",
      "------------------------------------------------------------------------------\n",
      "\n",
      "Antonym\n",
      "Input:\tafter her marriage , ms. ogura lived in cairo .\n",
      "Output:\tafter her divorce , ms. ogura lived in cairo .\n",
      "------------------------------------------------------------------------------\n",
      "\n",
      "\n",
      "=== Diff+ ===\n",
      "Male-Female\n",
      "Input:\tafter her marriage , ms. ogura lived in cairo .\n",
      "Output:\tafter his marriage , ms. ogura lived in cairo .\n",
      "------------------------------------------------------------------------------\n",
      "\n",
      "Singlar-Plural\n",
      "Input:\tafter her marriage , ms. ogura lived in cairo .\n",
      "Output:\tafter her marriage , ms. ogura lived in cairo .\n",
      "------------------------------------------------------------------------------\n",
      "\n",
      "Capital-Country\n",
      "Input:\tafter her marriage , ms. ogura lived in cairo .\n",
      "Output:\tafter her marriage , ms. ogura lived in egypt .\n",
      "------------------------------------------------------------------------------\n",
      "\n",
      "\n",
      "=== Diff- ===\n",
      "Male-Female\n",
      "Input:\tafter her marriage , ms. ogura lived in cairo .\n",
      "Output:\tafter his marriage , ms. ogura lived in cairo .\n",
      "------------------------------------------------------------------------------\n",
      "\n",
      "Singlar-Plural\n",
      "Input:\tafter her marriage , ms. ogura lived in cairo .\n",
      "Output:\tafter her marriage , ms. ogura lived in cairo .\n",
      "------------------------------------------------------------------------------\n",
      "\n",
      "Capital-Country\n",
      "Input:\tafter her marriage , ms. ogura lived in cairo .\n",
      "Output:\tafter her marriage , ms. ogura lived in egypt .\n",
      "------------------------------------------------------------------------------\n",
      "\n"
     ]
    }
   ],
   "source": [
    "comp('after her marriage , ms. ogura lived in cairo .')"
   ]
  },
  {
   "cell_type": "code",
   "execution_count": 33,
   "metadata": {
    "colab": {
     "base_uri": "https://localhost:8080/",
     "height": 1000
    },
    "colab_type": "code",
    "executionInfo": {
     "elapsed": 399636,
     "status": "ok",
     "timestamp": 1585022129295,
     "user": {
      "displayName": "ICLR anonymous_authors",
      "photoUrl": "",
      "userId": "00874876402563127221"
     },
     "user_tz": -540
    },
    "id": "UXWRJGz9nBgk",
    "outputId": "320213f2-2d60-4dc5-a5ff-ffb0ecf842c1"
   },
   "outputs": [
    {
     "name": "stdout",
     "output_type": "stream",
     "text": [
      "\n",
      "=== Ref+PM ===\n",
      "Male-Female\n",
      "Input:\tshe went to paris for the purpose of seeing her grandfather .\n",
      "Output:\the went to paris for the purpose of seeing his grandmother .\n",
      "------------------------------------------------------------------------------\n",
      "\n",
      "Singlar-Plural\n",
      "Input:\tshe went to paris for the purpose of seeing her grandfather .\n",
      "Output:\tthey went to paris for the purpose of seeing their grandfather .\n",
      "------------------------------------------------------------------------------\n",
      "\n",
      "Capital-Country\n",
      "Input:\tshe went to paris for the purpose of seeing her grandfather .\n",
      "Output:\tshe went to france for the purpose of seeing her grandfather .\n",
      "------------------------------------------------------------------------------\n",
      "\n",
      "Antonym\n",
      "Input:\tshe went to paris for the purpose of seeing her grandfather .\n",
      "Output:\tshe went to paris for the purpose of seeing her grandmother .\n",
      "------------------------------------------------------------------------------\n",
      "\n",
      "\n",
      "=== Diff+ ===\n",
      "Male-Female\n",
      "Input:\tshe went to paris for the purpose of seeing her grandfather .\n",
      "Output:\the went to paris for the purpose of seeing his grandfather .\n",
      "------------------------------------------------------------------------------\n",
      "\n",
      "Singlar-Plural\n",
      "Input:\tshe went to paris for the purpose of seeing her grandfather .\n",
      "Output:\tshe went to paris for the purpose of seeing her grandfather .\n",
      "------------------------------------------------------------------------------\n",
      "\n",
      "Capital-Country\n",
      "Input:\tshe went to paris for the purpose of seeing her grandfather .\n",
      "Output:\tshe went to france for the purpose of seeing her grandfather .\n",
      "------------------------------------------------------------------------------\n",
      "\n",
      "\n",
      "=== Diff- ===\n",
      "Male-Female\n",
      "Input:\tshe went to paris for the purpose of seeing her grandfather .\n",
      "Output:\the went to paris for the purpose of seeing his grandfather .\n",
      "------------------------------------------------------------------------------\n",
      "\n",
      "Singlar-Plural\n",
      "Input:\tshe went to paris for the purpose of seeing her grandfather .\n",
      "Output:\tshe went to paris for the purpose of seeing her grandfather .\n",
      "------------------------------------------------------------------------------\n",
      "\n",
      "Capital-Country\n",
      "Input:\tshe went to paris for the purpose of seeing her grandfather .\n",
      "Output:\tshe went to paris for the purpose of seeing her grandfather .\n",
      "------------------------------------------------------------------------------\n",
      "\n"
     ]
    }
   ],
   "source": [
    "comp('she went to paris for the purpose of seeing her grandfather .')"
   ]
  },
  {
   "cell_type": "code",
   "execution_count": null,
   "metadata": {
    "colab": {},
    "colab_type": "code",
    "id": "eJ7b6xKTnBgp"
   },
   "outputs": [],
   "source": []
  },
  {
   "cell_type": "code",
   "execution_count": null,
   "metadata": {
    "colab": {},
    "colab_type": "code",
    "id": "NlJ5zH0anBgr"
   },
   "outputs": [],
   "source": []
  },
  {
   "cell_type": "code",
   "execution_count": null,
   "metadata": {
    "colab": {},
    "colab_type": "code",
    "id": "oA-1MAk_nBgt"
   },
   "outputs": [],
   "source": []
  },
  {
   "cell_type": "code",
   "execution_count": null,
   "metadata": {
    "colab": {},
    "colab_type": "code",
    "id": "Py69S34fnBgv"
   },
   "outputs": [],
   "source": []
  }
 ],
 "metadata": {
  "colab": {
   "collapsed_sections": [],
   "name": "demo.ipynb",
   "provenance": [
    {
     "file_id": "1_IltjGB2Rr8pFLZdOCMqBi5k64M4oHGT",
     "timestamp": 1583573451491
    }
   ],
   "toc_visible": true
  },
  "kernelspec": {
   "display_name": "Python 3",
   "language": "python",
   "name": "python3"
  },
  "language_info": {
   "codemirror_mode": {
    "name": "ipython",
    "version": 3
   },
   "file_extension": ".py",
   "mimetype": "text/x-python",
   "name": "python",
   "nbconvert_exporter": "python",
   "pygments_lexer": "ipython3",
   "version": "3.5.2"
  }
 },
 "nbformat": 4,
 "nbformat_minor": 2
}
