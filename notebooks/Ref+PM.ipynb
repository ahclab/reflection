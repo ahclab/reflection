{
 "cells": [
  {
   "cell_type": "markdown",
   "metadata": {
    "colab_type": "text",
    "id": "CyvYjU_nl5i5"
   },
   "source": [
    "# Reflection-based Word Attribute Transfer\n",
    "- with Parameterized Mirrors"
   ]
  },
  {
   "cell_type": "code",
   "execution_count": null,
   "metadata": {
    "colab": {
     "base_uri": "https://localhost:8080/",
     "height": 445
    },
    "colab_type": "code",
    "executionInfo": {
     "elapsed": 11176,
     "status": "ok",
     "timestamp": 1569216829885,
     "user": {
      "displayName": "author anonymous",
      "photoUrl": "",
      "userId": "00874876402563127221"
     },
     "user_tz": -540
    },
    "id": "uGpWpzA5l5i6",
    "outputId": "b9321bcf-a4db-4f92-88b4-2750ec9a9c0d"
   },
   "outputs": [],
   "source": [
    "!pip install gensim==3.7.3"
   ]
  },
  {
   "cell_type": "markdown",
   "metadata": {},
   "source": [
    "# Setup"
   ]
  },
  {
   "cell_type": "code",
   "execution_count": 6,
   "metadata": {
    "colab": {},
    "colab_type": "code",
    "id": "Hwsu8KhsnUej"
   },
   "outputs": [
    {
     "name": "stdout",
     "output_type": "stream",
     "text": [
      "Local\n"
     ]
    }
   ],
   "source": [
    "import sys\n",
    "try: # Colab\n",
    "    from google.colab import drive\n",
    "    drive.mount('/content/gdrive')\n",
    "    sys.path.append('/content/gdrive/My Drive/word_attribute_transfer/src/reflection_based_transfer')\n",
    "    # Setthing for Colab\n",
    "    gpu = -1\n",
    "    path_dataset = '/content/gdrive/My Drive/word_attribute_transfer/data/datasets' \n",
    "    path_w2v = '/content/gdrive/My Drive/word_attribute_transfer/data/word2vec/GoogleNews-vectors-negative300.bin' \n",
    "    path_glv = '/content/gdrive/My Drive/word_attribute_transfer/data/glove/glove.42B.300d_gensim.txt'\n",
    "    path_out = '/content/gdrive/My Drive/word_attribute_transfer_results'\n",
    "    print('Colab')\n",
    "    \n",
    "except: # Local\n",
    "    sys.path.append('../src/reflection_based_transfer')\n",
    "    gpu = -1\n",
    "    path_dataset = '../data/datasets'\n",
    "    path_w2v = '../data/word2vec/GoogleNews-vectors-negative300.bin'\n",
    "    path_glv = '../data/glove/glove.42B.300d_gensim.txt'\n",
    "    path_out = '.'\n",
    "    print('Local')\n",
    "    \n",
    "import nets\n",
    "import updater\n",
    "import experiment\n",
    "import data_loader\n",
    "\n",
    "import numpy as np\n",
    "import datetime\n",
    "import gensim"
   ]
  },
  {
   "cell_type": "code",
   "execution_count": null,
   "metadata": {
    "colab": {},
    "colab_type": "code",
    "id": "YF7oAfq2l5jA"
   },
   "outputs": [],
   "source": [
    "cd /content/gdrive/My Drive/word_attribute_transfer/notebooks"
   ]
  },
  {
   "cell_type": "markdown",
   "metadata": {
    "colab_type": "text",
    "id": "O21ksN4Dl5jC"
   },
   "source": [
    "# Load pre-trained word embeddings"
   ]
  },
  {
   "cell_type": "code",
   "execution_count": 2,
   "metadata": {
    "colab": {},
    "colab_type": "code",
    "id": "V-Ako6JMl5jC",
    "outputId": "33b17013-2223-4eb3-cf11-959173453a94"
   },
   "outputs": [
    {
     "name": "stdout",
     "output_type": "stream",
     "text": [
      "CPU times: user 6min 29s, sys: 6.76 s, total: 6min 36s\n",
      "Wall time: 6min 38s\n"
     ]
    }
   ],
   "source": [
    "def load(embedding):\n",
    "    if embedding == 'word2vec':\n",
    "        return gensim.models.KeyedVectors.load_word2vec_format(path_w2v, binary=True)\n",
    "    elif embedding == 'glove':\n",
    "        return gensim.models.KeyedVectors.load_word2vec_format(path_glv)\n",
    "\n",
    "embedding = 'glove'\n",
    "%time word2vec = load(embedding)"
   ]
  },
  {
   "cell_type": "markdown",
   "metadata": {
    "colab_type": "text",
    "id": "nTWU7i4Kl5jE"
   },
   "source": [
    "# Training\n",
    "## Male-Female"
   ]
  },
  {
   "cell_type": "code",
   "execution_count": 34,
   "metadata": {
    "colab": {},
    "colab_type": "code",
    "id": "lJWx-s7_l5jF",
    "outputId": "e1465802-9b54-4690-ae10-3275dd92ef11"
   },
   "outputs": [
    {
     "name": "stdout",
     "output_type": "stream",
     "text": [
      "2020-03-22_16-16-26_193548\n",
      "Loading dataset...\n",
      "Dataset was loaded.\n",
      "epoch       iteration   net/loss  \n",
      "\u001b[J50          1000        0.0318503   \n",
      "\u001b[J101         2000        0.0118383   \n",
      "\u001b[J152         3000        0.0109309   \n",
      "\u001b[J203         4000        0.0106534   \n",
      "\u001b[J254         5000        0.0105036   \n",
      "\u001b[J305         6000        0.0104142   \n",
      "\u001b[J356         7000        0.0103447   \n",
      "\u001b[J407         8000        0.0102953   \n",
      "\u001b[J458         9000        0.0102595   \n",
      "\u001b[J509         10000       0.0102245   \n",
      "\u001b[J559         11000       0.0102079   \n",
      "\u001b[J610         12000       0.0101818   \n",
      "\u001b[J661         13000       0.010163    \n",
      "\u001b[J712         14000       0.0101474   \n",
      "\u001b[J763         15000       0.0101345   \n",
      "\u001b[J814         16000       0.0101147   \n",
      "\u001b[J865         17000       0.0101053   \n",
      "\u001b[J916         18000       0.0100962   \n",
      "\u001b[J967         19000       0.0100779   \n",
      "\u001b[J1018        20000       0.0100636   \n",
      "\u001b[J1068        21000       0.0100512   \n",
      "\u001b[J1119        22000       0.0100381   \n",
      "\u001b[J1170        23000       0.0100252   \n",
      "\u001b[J1221        24000       0.0100031   \n",
      "\u001b[J1272        25000       0.00998814  \n",
      "\u001b[J1323        26000       0.00997519  \n",
      "\u001b[J1374        27000       0.00994924  \n",
      "\u001b[J1425        28000       0.00992977  \n",
      "\u001b[J1476        29000       0.00989759  \n",
      "\u001b[J1527        30000       0.00986391  \n",
      "\u001b[J1577        31000       0.0098343   \n",
      "\u001b[J1628        32000       0.00979456  \n",
      "\u001b[J1679        33000       0.00973867  \n",
      "\u001b[J1730        34000       0.00967346  \n",
      "\u001b[J1781        35000       0.00959349  \n",
      "\u001b[J1832        36000       0.00951229  \n",
      "\u001b[J1883        37000       0.00941266  \n",
      "\u001b[J1934        38000       0.00931047  \n",
      "\u001b[J1985        39000       0.00921167  \n",
      "\u001b[J2036        40000       0.0091069   \n",
      "\u001b[J2087        41000       0.00900858  \n",
      "\u001b[J2137        42000       0.00890588  \n",
      "\u001b[J2188        43000       0.008809    \n",
      "\u001b[J2239        44000       0.00871747  \n",
      "\u001b[J2290        45000       0.00863442  \n",
      "\u001b[J2341        46000       0.00854489  \n",
      "\u001b[J2392        47000       0.00847826  \n",
      "\u001b[J2443        48000       0.008407    \n",
      "\u001b[J2494        49000       0.00835129  \n",
      "\u001b[J2545        50000       0.00828576  \n",
      "\u001b[J2596        51000       0.00822378  \n",
      "\u001b[J2646        52000       0.00817173  \n",
      "\u001b[J2697        53000       0.00812318  \n",
      "\u001b[J2748        54000       0.00807426  \n",
      "\u001b[J2799        55000       0.0080249   \n",
      "\u001b[J2850        56000       0.00798772  \n",
      "\u001b[J2901        57000       0.00793666  \n",
      "\u001b[J2952        58000       0.00789931  \n"
     ]
    },
    {
     "name": "stderr",
     "output_type": "stream",
     "text": [
      "0it [00:00, ?it/s]"
     ]
    },
    {
     "name": "stdout",
     "output_type": "stream",
     "text": [
      "\n",
      "Searching best model...\n"
     ]
    },
    {
     "name": "stderr",
     "output_type": "stream",
     "text": [
      "24it [00:10,  7.88it/s]\n",
      "1it [00:00,  8.03it/s]"
     ]
    },
    {
     "name": "stdout",
     "output_type": "stream",
     "text": [
      "ittr 1000 val@1: 0.125\n"
     ]
    },
    {
     "name": "stderr",
     "output_type": "stream",
     "text": [
      "24it [00:03,  6.47it/s]\n",
      "0it [00:00, ?it/s]"
     ]
    },
    {
     "name": "stdout",
     "output_type": "stream",
     "text": [
      "ittr 2000 val@1: 0.08333333333333333\n"
     ]
    },
    {
     "name": "stderr",
     "output_type": "stream",
     "text": [
      "24it [00:03,  6.62it/s]\n",
      "0it [00:00, ?it/s]"
     ]
    },
    {
     "name": "stdout",
     "output_type": "stream",
     "text": [
      "ittr 3000 val@1: 0.125\n"
     ]
    },
    {
     "name": "stderr",
     "output_type": "stream",
     "text": [
      "24it [00:03,  6.30it/s]\n",
      "1it [00:00,  6.21it/s]"
     ]
    },
    {
     "name": "stdout",
     "output_type": "stream",
     "text": [
      "ittr 4000 val@1: 0.08333333333333333\n"
     ]
    },
    {
     "name": "stderr",
     "output_type": "stream",
     "text": [
      "24it [00:03,  6.37it/s]\n",
      "0it [00:00, ?it/s]"
     ]
    },
    {
     "name": "stdout",
     "output_type": "stream",
     "text": [
      "ittr 5000 val@1: 0.125\n"
     ]
    },
    {
     "name": "stderr",
     "output_type": "stream",
     "text": [
      "24it [00:03,  8.55it/s]\n",
      "1it [00:00,  7.88it/s]"
     ]
    },
    {
     "name": "stdout",
     "output_type": "stream",
     "text": [
      "ittr 6000 val@1: 0.08333333333333333\n"
     ]
    },
    {
     "name": "stderr",
     "output_type": "stream",
     "text": [
      "24it [00:03,  6.52it/s]\n",
      "0it [00:00, ?it/s]"
     ]
    },
    {
     "name": "stdout",
     "output_type": "stream",
     "text": [
      "ittr 7000 val@1: 0.08333333333333333\n"
     ]
    },
    {
     "name": "stderr",
     "output_type": "stream",
     "text": [
      "24it [00:03,  6.49it/s]\n",
      "0it [00:00, ?it/s]"
     ]
    },
    {
     "name": "stdout",
     "output_type": "stream",
     "text": [
      "ittr 8000 val@1: 0.08333333333333333\n"
     ]
    },
    {
     "name": "stderr",
     "output_type": "stream",
     "text": [
      "24it [00:03,  7.40it/s]\n",
      "1it [00:00,  7.59it/s]"
     ]
    },
    {
     "name": "stdout",
     "output_type": "stream",
     "text": [
      "ittr 9000 val@1: 0.08333333333333333\n"
     ]
    },
    {
     "name": "stderr",
     "output_type": "stream",
     "text": [
      "24it [00:03,  6.48it/s]\n",
      "0it [00:00, ?it/s]"
     ]
    },
    {
     "name": "stdout",
     "output_type": "stream",
     "text": [
      "ittr 10000 val@1: 0.08333333333333333\n"
     ]
    },
    {
     "name": "stderr",
     "output_type": "stream",
     "text": [
      "24it [00:03,  6.57it/s]\n",
      "1it [00:00,  6.47it/s]"
     ]
    },
    {
     "name": "stdout",
     "output_type": "stream",
     "text": [
      "ittr 11000 val@1: 0.08333333333333333\n"
     ]
    },
    {
     "name": "stderr",
     "output_type": "stream",
     "text": [
      "24it [00:03,  6.67it/s]\n",
      "1it [00:00,  7.20it/s]"
     ]
    },
    {
     "name": "stdout",
     "output_type": "stream",
     "text": [
      "ittr 12000 val@1: 0.08333333333333333\n"
     ]
    },
    {
     "name": "stderr",
     "output_type": "stream",
     "text": [
      "24it [00:03,  6.53it/s]\n",
      "0it [00:00, ?it/s]"
     ]
    },
    {
     "name": "stdout",
     "output_type": "stream",
     "text": [
      "ittr 13000 val@1: 0.08333333333333333\n"
     ]
    },
    {
     "name": "stderr",
     "output_type": "stream",
     "text": [
      "24it [00:03,  7.59it/s]\n",
      "1it [00:00,  7.84it/s]"
     ]
    },
    {
     "name": "stdout",
     "output_type": "stream",
     "text": [
      "ittr 14000 val@1: 0.08333333333333333\n"
     ]
    },
    {
     "name": "stderr",
     "output_type": "stream",
     "text": [
      "24it [00:03,  6.22it/s]\n",
      "1it [00:00,  6.44it/s]"
     ]
    },
    {
     "name": "stdout",
     "output_type": "stream",
     "text": [
      "ittr 15000 val@1: 0.08333333333333333\n"
     ]
    },
    {
     "name": "stderr",
     "output_type": "stream",
     "text": [
      "24it [00:03,  6.51it/s]\n",
      "1it [00:00,  6.28it/s]"
     ]
    },
    {
     "name": "stdout",
     "output_type": "stream",
     "text": [
      "ittr 16000 val@1: 0.08333333333333333\n"
     ]
    },
    {
     "name": "stderr",
     "output_type": "stream",
     "text": [
      "24it [00:03,  6.25it/s]\n",
      "1it [00:00,  7.17it/s]"
     ]
    },
    {
     "name": "stdout",
     "output_type": "stream",
     "text": [
      "ittr 17000 val@1: 0.08333333333333333\n"
     ]
    },
    {
     "name": "stderr",
     "output_type": "stream",
     "text": [
      "24it [00:03,  6.42it/s]\n",
      "1it [00:00,  6.21it/s]"
     ]
    },
    {
     "name": "stdout",
     "output_type": "stream",
     "text": [
      "ittr 18000 val@1: 0.08333333333333333\n"
     ]
    },
    {
     "name": "stderr",
     "output_type": "stream",
     "text": [
      "24it [00:03,  5.98it/s]\n",
      "0it [00:00, ?it/s]"
     ]
    },
    {
     "name": "stdout",
     "output_type": "stream",
     "text": [
      "ittr 19000 val@1: 0.08333333333333333\n"
     ]
    },
    {
     "name": "stderr",
     "output_type": "stream",
     "text": [
      "24it [00:03,  6.26it/s]\n",
      "0it [00:00, ?it/s]"
     ]
    },
    {
     "name": "stdout",
     "output_type": "stream",
     "text": [
      "ittr 20000 val@1: 0.08333333333333333\n"
     ]
    },
    {
     "name": "stderr",
     "output_type": "stream",
     "text": [
      "24it [00:03,  6.17it/s]\n",
      "0it [00:00, ?it/s]"
     ]
    },
    {
     "name": "stdout",
     "output_type": "stream",
     "text": [
      "ittr 21000 val@1: 0.125\n"
     ]
    },
    {
     "name": "stderr",
     "output_type": "stream",
     "text": [
      "24it [00:03,  6.55it/s]\n",
      "0it [00:00, ?it/s]"
     ]
    },
    {
     "name": "stdout",
     "output_type": "stream",
     "text": [
      "ittr 22000 val@1: 0.125\n"
     ]
    },
    {
     "name": "stderr",
     "output_type": "stream",
     "text": [
      "24it [00:03,  6.20it/s]\n",
      "0it [00:00, ?it/s]"
     ]
    },
    {
     "name": "stdout",
     "output_type": "stream",
     "text": [
      "ittr 23000 val@1: 0.125\n"
     ]
    },
    {
     "name": "stderr",
     "output_type": "stream",
     "text": [
      "24it [00:03,  6.66it/s]\n",
      "0it [00:00, ?it/s]"
     ]
    },
    {
     "name": "stdout",
     "output_type": "stream",
     "text": [
      "ittr 24000 val@1: 0.125\n"
     ]
    },
    {
     "name": "stderr",
     "output_type": "stream",
     "text": [
      "24it [00:03,  6.33it/s]\n",
      "0it [00:00, ?it/s]"
     ]
    },
    {
     "name": "stdout",
     "output_type": "stream",
     "text": [
      "ittr 25000 val@1: 0.125\n"
     ]
    },
    {
     "name": "stderr",
     "output_type": "stream",
     "text": [
      "24it [00:03,  6.59it/s]\n",
      "0it [00:00, ?it/s]"
     ]
    },
    {
     "name": "stdout",
     "output_type": "stream",
     "text": [
      "ittr 26000 val@1: 0.125\n"
     ]
    },
    {
     "name": "stderr",
     "output_type": "stream",
     "text": [
      "24it [00:03,  6.21it/s]\n",
      "0it [00:00, ?it/s]"
     ]
    },
    {
     "name": "stdout",
     "output_type": "stream",
     "text": [
      "ittr 27000 val@1: 0.125\n"
     ]
    },
    {
     "name": "stderr",
     "output_type": "stream",
     "text": [
      "24it [00:03,  6.45it/s]\n",
      "0it [00:00, ?it/s]"
     ]
    },
    {
     "name": "stdout",
     "output_type": "stream",
     "text": [
      "ittr 28000 val@1: 0.125\n"
     ]
    },
    {
     "name": "stderr",
     "output_type": "stream",
     "text": [
      "24it [00:03,  6.68it/s]\n",
      "0it [00:00, ?it/s]"
     ]
    },
    {
     "name": "stdout",
     "output_type": "stream",
     "text": [
      "ittr 29000 val@1: 0.125\n"
     ]
    },
    {
     "name": "stderr",
     "output_type": "stream",
     "text": [
      "24it [00:03,  7.01it/s]\n",
      "0it [00:00, ?it/s]"
     ]
    },
    {
     "name": "stdout",
     "output_type": "stream",
     "text": [
      "ittr 30000 val@1: 0.125\n"
     ]
    },
    {
     "name": "stderr",
     "output_type": "stream",
     "text": [
      "24it [00:03,  6.18it/s]\n",
      "0it [00:00, ?it/s]"
     ]
    },
    {
     "name": "stdout",
     "output_type": "stream",
     "text": [
      "ittr 31000 val@1: 0.125\n"
     ]
    },
    {
     "name": "stderr",
     "output_type": "stream",
     "text": [
      "24it [00:04,  5.22it/s]\n",
      "0it [00:00, ?it/s]"
     ]
    },
    {
     "name": "stdout",
     "output_type": "stream",
     "text": [
      "ittr 32000 val@1: 0.125\n"
     ]
    },
    {
     "name": "stderr",
     "output_type": "stream",
     "text": [
      "24it [00:03,  6.26it/s]\n",
      "0it [00:00, ?it/s]"
     ]
    },
    {
     "name": "stdout",
     "output_type": "stream",
     "text": [
      "ittr 33000 val@1: 0.16666666666666666\n"
     ]
    },
    {
     "name": "stderr",
     "output_type": "stream",
     "text": [
      "24it [00:03,  6.18it/s]\n",
      "0it [00:00, ?it/s]"
     ]
    },
    {
     "name": "stdout",
     "output_type": "stream",
     "text": [
      "ittr 34000 val@1: 0.16666666666666666\n"
     ]
    },
    {
     "name": "stderr",
     "output_type": "stream",
     "text": [
      "24it [00:03,  7.47it/s]\n",
      "1it [00:00,  6.67it/s]"
     ]
    },
    {
     "name": "stdout",
     "output_type": "stream",
     "text": [
      "ittr 35000 val@1: 0.20833333333333334\n"
     ]
    },
    {
     "name": "stderr",
     "output_type": "stream",
     "text": [
      "24it [00:03,  6.46it/s]\n",
      "0it [00:00, ?it/s]"
     ]
    },
    {
     "name": "stdout",
     "output_type": "stream",
     "text": [
      "ittr 36000 val@1: 0.20833333333333334\n"
     ]
    },
    {
     "name": "stderr",
     "output_type": "stream",
     "text": [
      "24it [00:03,  6.15it/s]\n",
      "0it [00:00, ?it/s]"
     ]
    },
    {
     "name": "stdout",
     "output_type": "stream",
     "text": [
      "ittr 37000 val@1: 0.20833333333333334\n"
     ]
    },
    {
     "name": "stderr",
     "output_type": "stream",
     "text": [
      "24it [00:03,  5.23it/s]\n",
      "0it [00:00, ?it/s]"
     ]
    },
    {
     "name": "stdout",
     "output_type": "stream",
     "text": [
      "ittr 38000 val@1: 0.20833333333333334\n"
     ]
    },
    {
     "name": "stderr",
     "output_type": "stream",
     "text": [
      "24it [00:03,  6.42it/s]\n",
      "0it [00:00, ?it/s]"
     ]
    },
    {
     "name": "stdout",
     "output_type": "stream",
     "text": [
      "ittr 39000 val@1: 0.25\n"
     ]
    },
    {
     "name": "stderr",
     "output_type": "stream",
     "text": [
      "24it [00:03,  7.70it/s]\n",
      "1it [00:00,  7.52it/s]"
     ]
    },
    {
     "name": "stdout",
     "output_type": "stream",
     "text": [
      "ittr 40000 val@1: 0.25\n"
     ]
    },
    {
     "name": "stderr",
     "output_type": "stream",
     "text": [
      "24it [00:03,  7.37it/s]\n",
      "1it [00:00,  7.61it/s]"
     ]
    },
    {
     "name": "stdout",
     "output_type": "stream",
     "text": [
      "ittr 41000 val@1: 0.25\n"
     ]
    },
    {
     "name": "stderr",
     "output_type": "stream",
     "text": [
      "24it [00:03,  6.66it/s]\n",
      "0it [00:00, ?it/s]"
     ]
    },
    {
     "name": "stdout",
     "output_type": "stream",
     "text": [
      "ittr 42000 val@1: 0.25\n"
     ]
    },
    {
     "name": "stderr",
     "output_type": "stream",
     "text": [
      "24it [00:03,  6.23it/s]\n",
      "0it [00:00, ?it/s]"
     ]
    },
    {
     "name": "stdout",
     "output_type": "stream",
     "text": [
      "ittr 43000 val@1: 0.25\n"
     ]
    },
    {
     "name": "stderr",
     "output_type": "stream",
     "text": [
      "24it [00:03,  6.46it/s]\n",
      "0it [00:00, ?it/s]"
     ]
    },
    {
     "name": "stdout",
     "output_type": "stream",
     "text": [
      "ittr 44000 val@1: 0.25\n"
     ]
    },
    {
     "name": "stderr",
     "output_type": "stream",
     "text": [
      "24it [00:03,  7.94it/s]\n",
      "1it [00:00,  7.37it/s]"
     ]
    },
    {
     "name": "stdout",
     "output_type": "stream",
     "text": [
      "ittr 45000 val@1: 0.25\n"
     ]
    },
    {
     "name": "stderr",
     "output_type": "stream",
     "text": [
      "24it [00:03,  6.16it/s]\n",
      "0it [00:00, ?it/s]"
     ]
    },
    {
     "name": "stdout",
     "output_type": "stream",
     "text": [
      "ittr 46000 val@1: 0.25\n"
     ]
    },
    {
     "name": "stderr",
     "output_type": "stream",
     "text": [
      "24it [00:03,  6.39it/s]\n",
      "0it [00:00, ?it/s]"
     ]
    },
    {
     "name": "stdout",
     "output_type": "stream",
     "text": [
      "ittr 47000 val@1: 0.25\n"
     ]
    },
    {
     "name": "stderr",
     "output_type": "stream",
     "text": [
      "24it [00:03,  6.44it/s]\n",
      "1it [00:00,  6.34it/s]"
     ]
    },
    {
     "name": "stdout",
     "output_type": "stream",
     "text": [
      "ittr 48000 val@1: 0.25\n"
     ]
    },
    {
     "name": "stderr",
     "output_type": "stream",
     "text": [
      "24it [00:03,  7.27it/s]\n",
      "0it [00:00, ?it/s]"
     ]
    },
    {
     "name": "stdout",
     "output_type": "stream",
     "text": [
      "ittr 49000 val@1: 0.25\n"
     ]
    },
    {
     "name": "stderr",
     "output_type": "stream",
     "text": [
      "24it [00:03,  6.71it/s]\n",
      "1it [00:00,  6.29it/s]"
     ]
    },
    {
     "name": "stdout",
     "output_type": "stream",
     "text": [
      "ittr 50000 val@1: 0.25\n"
     ]
    },
    {
     "name": "stderr",
     "output_type": "stream",
     "text": [
      "24it [00:03,  6.43it/s]\n",
      "0it [00:00, ?it/s]"
     ]
    },
    {
     "name": "stdout",
     "output_type": "stream",
     "text": [
      "ittr 51000 val@1: 0.25\n"
     ]
    },
    {
     "name": "stderr",
     "output_type": "stream",
     "text": [
      "24it [00:03,  6.47it/s]\n",
      "0it [00:00, ?it/s]"
     ]
    },
    {
     "name": "stdout",
     "output_type": "stream",
     "text": [
      "ittr 52000 val@1: 0.25\n"
     ]
    },
    {
     "name": "stderr",
     "output_type": "stream",
     "text": [
      "24it [00:03,  6.20it/s]\n",
      "0it [00:00, ?it/s]"
     ]
    },
    {
     "name": "stdout",
     "output_type": "stream",
     "text": [
      "ittr 53000 val@1: 0.2916666666666667\n"
     ]
    },
    {
     "name": "stderr",
     "output_type": "stream",
     "text": [
      "24it [00:03,  6.94it/s]\n",
      "1it [00:00,  6.33it/s]"
     ]
    },
    {
     "name": "stdout",
     "output_type": "stream",
     "text": [
      "ittr 54000 val@1: 0.25\n"
     ]
    },
    {
     "name": "stderr",
     "output_type": "stream",
     "text": [
      "24it [00:03,  6.48it/s]\n",
      "0it [00:00, ?it/s]"
     ]
    },
    {
     "name": "stdout",
     "output_type": "stream",
     "text": [
      "ittr 55000 val@1: 0.25\n"
     ]
    },
    {
     "name": "stderr",
     "output_type": "stream",
     "text": [
      "24it [00:03,  6.70it/s]\n",
      "0it [00:00, ?it/s]"
     ]
    },
    {
     "name": "stdout",
     "output_type": "stream",
     "text": [
      "ittr 56000 val@1: 0.25\n",
      "best ittr:  53000\n",
      "best acc  :  0.2916666666666667\n",
      "\n",
      "calculating accuracies...\n",
      "\tz:  male-female_53\n"
     ]
    },
    {
     "name": "stderr",
     "output_type": "stream",
     "text": [
      "58it [00:09,  6.02it/s]\n",
      "1it [00:00,  5.48it/s]"
     ]
    },
    {
     "name": "stdout",
     "output_type": "stream",
     "text": [
      "train@1: 1\n",
      "train@2: 1\n",
      "train@3: 1\n"
     ]
    },
    {
     "name": "stderr",
     "output_type": "stream",
     "text": [
      "24it [00:03,  7.31it/s]\n",
      "1it [00:00,  8.00it/s]"
     ]
    },
    {
     "name": "stdout",
     "output_type": "stream",
     "text": [
      "val@1: 0.2916666666666667\n",
      "val@2: 0.6666666666666666\n",
      "val@3: 0.7083333333333334\n"
     ]
    },
    {
     "name": "stderr",
     "output_type": "stream",
     "text": [
      "24it [00:03,  6.71it/s]\n"
     ]
    },
    {
     "name": "stdout",
     "output_type": "stream",
     "text": [
      "test@1: 0.4583333333333333\n",
      "test@2: 0.7083333333333334\n",
      "test@3: 0.7083333333333334\n",
      "\n",
      "calculating stability score...\n",
      "\tz:  male-female_53\n"
     ]
    },
    {
     "name": "stderr",
     "output_type": "stream",
     "text": [
      "100%|██████████| 1000/1000 [02:39<00:00,  6.58it/s]\n"
     ]
    },
    {
     "name": "stdout",
     "output_type": "stream",
     "text": [
      "stability@1: 0.999\n",
      "stability@2: 0.999\n",
      "stability@3: 0.999\n",
      "\n",
      "saving results and experimental settings...\n",
      "done.\n",
      "CPU times: user 55min 27s, sys: 3min 12s, total: 58min 39s\n",
      "Wall time: 36min 45s\n"
     ]
    }
   ],
   "source": [
    "# Now\n",
    "now = str(datetime.datetime.today()).replace(' ', '_').replace(':', '-').replace('.', '_')\n",
    "print(now)\n",
    "\n",
    "# Reset parametors of net\n",
    "seed = 0\n",
    "data_loader.reset_seed(seed)\n",
    "\n",
    "# Set up a neural network to train\n",
    "dim_x = 300 # Dim of word2vec/GloVe\n",
    "dim_h = 300 # Dim of MLP hidden layers\n",
    "datasets = ['male-female_53'] # male-female_53, singular-plural_140, capital-country_109\n",
    "n_attribute = len(datasets)\n",
    "sigma = 0.1\n",
    "net = nets.Ref_PM(dim_x, dim_h, n_attribute, sigma) \n",
    "\n",
    "experiment_name = 'Ref+PM_{}'.format(now)\n",
    "# Settings\n",
    "settings = {'experiment_name':experiment_name, \n",
    "            'word2vec':word2vec,\n",
    "            'num_N_train':0, # non-attribute words\n",
    "            'num_N_test':1000, # non-attribute words\n",
    "            'n_argument':20,\n",
    "            'batchsize':62, \n",
    "            'epoch':3000, \n",
    "            'alpha':0.0001, \n",
    "            'datasets':datasets,\n",
    "            'n_attribute':n_attribute,\n",
    "            'n_top':[1,2,3],\n",
    "            'gpu':gpu,\n",
    "            'model':{'net':net,\n",
    "                     'name':net.net_name, \n",
    "                     'dim_x':dim_x, \n",
    "                     'dim_h':dim_h, \n",
    "                     'n_attribute':n_attribute, \n",
    "                     'sigma':net.sigma,\n",
    "                     'reset_seed':seed},\n",
    "            'updater':{'updater':updater.AttributeTransferUpdater1,\n",
    "                       'name':updater.AttributeTransferUpdater1.__name__},\n",
    "            'resume':'',\n",
    "            'out':'{}/result/{}/net'.format(path_out, experiment_name),\n",
    "            'path_dataset':path_dataset,\n",
    "            'snapshot_interval':1000,\n",
    "            'display_interval':1000,\n",
    "            'other_info':{'when':now},\n",
    "            'post_process':{'best_model':True, 'acc':True, 'stb':True, 'save_results':True, 'train':True},\n",
    "            'embedding_method':embedding,\n",
    "           }\n",
    "\n",
    "# Experiment\n",
    "%time experiment.experiment1(settings)"
   ]
  },
  {
   "cell_type": "markdown",
   "metadata": {
    "colab_type": "text",
    "id": "LDp2Tksdl5jH"
   },
   "source": [
    "## Singular-Plural"
   ]
  },
  {
   "cell_type": "code",
   "execution_count": 35,
   "metadata": {
    "colab": {},
    "colab_type": "code",
    "id": "S9Sy5nLil5jI",
    "outputId": "ad39ed2d-7663-4fac-810a-352a1a1b91ce"
   },
   "outputs": [
    {
     "name": "stdout",
     "output_type": "stream",
     "text": [
      "2020-03-22_16-53-43_923822\n",
      "Loading dataset...\n",
      "Dataset was loaded.\n",
      "Sampling non-attribute words from the vocabulary...\n",
      "Sampling done.\n",
      "epoch       iteration   net/loss  \n",
      "\u001b[J8           1000        0.053303    \n",
      "\u001b[J16          2000        0.0223747   \n",
      "\u001b[J24          3000        0.0153685   \n",
      "\u001b[J32          4000        0.0131696   \n",
      "\u001b[J40          5000        0.0122785   \n",
      "\u001b[J48          6000        0.0118054   \n",
      "\u001b[J56          7000        0.0115367   \n",
      "\u001b[J64          8000        0.0113176   \n",
      "\u001b[J72          9000        0.0111647   \n",
      "\u001b[J80          10000       0.011072    \n",
      "\u001b[J88          11000       0.0109764   \n",
      "\u001b[J96          12000       0.0108883   \n",
      "\u001b[J104         13000       0.0108205   \n",
      "\u001b[J112         14000       0.0107764   \n",
      "\u001b[J120         15000       0.0107218   \n",
      "\u001b[J128         16000       0.0106807   \n",
      "\u001b[J136         17000       0.0106433   \n",
      "\u001b[J144         18000       0.0106107   \n",
      "\u001b[J152         19000       0.0105802   \n",
      "\u001b[J160         20000       0.0105551   \n",
      "\u001b[J168         21000       0.01053     \n",
      "\u001b[J176         22000       0.0105016   \n",
      "\u001b[J184         23000       0.0104767   \n",
      "\u001b[J192         24000       0.0104608   \n",
      "\u001b[J200         25000       0.0104572   \n",
      "\u001b[J208         26000       0.0104408   \n",
      "\u001b[J216         27000       0.0104236   \n",
      "\u001b[J224         28000       0.0104071   \n",
      "\u001b[J232         29000       0.0104086   \n",
      "\u001b[J240         30000       0.0103821   \n",
      "\u001b[J248         31000       0.0103691   \n",
      "\u001b[J256         32000       0.0103642   \n",
      "\u001b[J264         33000       0.0103443   \n",
      "\u001b[J272         34000       0.0103486   \n",
      "\u001b[J280         35000       0.0103279   \n",
      "\u001b[J288         36000       0.0103249   \n",
      "\u001b[J296         37000       0.0103216   \n",
      "\u001b[J304         38000       0.0103116   \n",
      "\u001b[J312         39000       0.0103062   \n",
      "\u001b[J320         40000       0.0102992   \n",
      "\u001b[J328         41000       0.0102917   \n",
      "\u001b[J336         42000       0.0102797   \n",
      "\u001b[J344         43000       0.0102787   \n",
      "\u001b[J352         44000       0.0102699   \n",
      "\u001b[J360         45000       0.0102633   \n",
      "\u001b[J368         46000       0.0102734   \n",
      "\u001b[J376         47000       0.0102518   \n",
      "\u001b[J384         48000       0.0102591   \n",
      "\u001b[J392         49000       0.0102488   \n",
      "\u001b[J401         50000       0.0102478   \n",
      "\u001b[J409         51000       0.0102441   \n",
      "\u001b[J417         52000       0.0102413   \n",
      "\u001b[J425         53000       0.0102396   \n",
      "\u001b[J433         54000       0.0102364   \n",
      "\u001b[J441         55000       0.010223    \n",
      "\u001b[J449         56000       0.0102218   \n",
      "\u001b[J457         57000       0.0102165   \n",
      "\u001b[J465         58000       0.0102171   \n",
      "\u001b[J473         59000       0.010223    \n",
      "\u001b[J481         60000       0.0102203   \n",
      "\u001b[J489         61000       0.0102052   \n",
      "\u001b[J497         62000       0.010207    \n",
      "\u001b[J505         63000       0.0101954   \n",
      "\u001b[J513         64000       0.0101945   \n",
      "\u001b[J521         65000       0.0101983   \n",
      "\u001b[J529         66000       0.0101876   \n",
      "\u001b[J537         67000       0.0101924   \n",
      "\u001b[J545         68000       0.0101842   \n",
      "\u001b[J553         69000       0.0101854   \n",
      "\u001b[J561         70000       0.0101863   \n",
      "\u001b[J569         71000       0.0101759   \n",
      "\u001b[J577         72000       0.0101712   \n",
      "\u001b[J585         73000       0.0101731   \n",
      "\u001b[J593         74000       0.0101626   \n",
      "\u001b[J601         75000       0.0101757   \n",
      "\u001b[J609         76000       0.0101705   \n",
      "\u001b[J617         77000       0.0101669   \n",
      "\u001b[J625         78000       0.010166    \n",
      "\u001b[J633         79000       0.0101538   \n",
      "\u001b[J641         80000       0.0101567   \n",
      "\u001b[J649         81000       0.0101544   \n",
      "\u001b[J657         82000       0.0101505   \n",
      "\u001b[J665         83000       0.0101486   \n",
      "\u001b[J673         84000       0.0101431   \n",
      "\u001b[J681         85000       0.010142    \n",
      "\u001b[J689         86000       0.0101454   \n",
      "\u001b[J697         87000       0.010139    \n",
      "\u001b[J705         88000       0.0101279   \n",
      "\u001b[J713         89000       0.0101278   \n",
      "\u001b[J721         90000       0.0101249   \n",
      "\u001b[J729         91000       0.0101295   \n",
      "\u001b[J737         92000       0.0101129   \n",
      "\u001b[J745         93000       0.0101193   \n",
      "\u001b[J753         94000       0.0101193   \n",
      "\u001b[J761         95000       0.0101153   \n",
      "\u001b[J769         96000       0.010103    \n",
      "\u001b[J777         97000       0.0100976   \n",
      "\u001b[J785         98000       0.0100859   \n",
      "\u001b[J793         99000       0.0100887   \n",
      "\u001b[J802         100000      0.0100887   \n",
      "\u001b[J810         101000      0.0100818   \n",
      "\u001b[J818         102000      0.0100687   \n",
      "\u001b[J826         103000      0.0100695   \n",
      "\u001b[J834         104000      0.0100603   \n",
      "\u001b[J842         105000      0.0100551   \n",
      "\u001b[J850         106000      0.0100512   \n",
      "\u001b[J858         107000      0.0100477   \n",
      "\u001b[J866         108000      0.0100309   \n",
      "\u001b[J874         109000      0.0100265   \n",
      "\u001b[J882         110000      0.0100111   \n",
      "\u001b[J890         111000      0.0100003   \n",
      "\u001b[J898         112000      0.010004    \n",
      "\u001b[J906         113000      0.00999106  \n",
      "\u001b[J914         114000      0.00997079  \n",
      "\u001b[J922         115000      0.00996851  \n",
      "\u001b[J930         116000      0.00995336  \n",
      "\u001b[J938         117000      0.00993951  \n",
      "\u001b[J946         118000      0.00992871  \n",
      "\u001b[J954         119000      0.00990656  \n",
      "\u001b[J962         120000      0.00990721  \n",
      "\u001b[J970         121000      0.009885    \n",
      "\u001b[J978         122000      0.00987099  \n",
      "\u001b[J986         123000      0.00986018  \n",
      "\u001b[J994         124000      0.00983806  \n",
      "\u001b[J1002        125000      0.0098329   \n",
      "\u001b[J1010        126000      0.00981282  \n",
      "\u001b[J1018        127000      0.00978914  \n",
      "\u001b[J1026        128000      0.00977157  \n",
      "\u001b[J1034        129000      0.00975306  \n",
      "\u001b[J1042        130000      0.00974132  \n",
      "\u001b[J1050        131000      0.00971749  \n",
      "\u001b[J1058        132000      0.00969289  \n",
      "\u001b[J1066        133000      0.0096736   \n",
      "\u001b[J1074        134000      0.00964985  \n",
      "\u001b[J1082        135000      0.00962553  \n",
      "\u001b[J1090        136000      0.00960678  \n",
      "\u001b[J1098        137000      0.00959152  \n",
      "\u001b[J1106        138000      0.00957949  \n",
      "\u001b[J1114        139000      0.00954986  \n",
      "\u001b[J1122        140000      0.00953302  \n",
      "\u001b[J1130        141000      0.00952184  \n",
      "\u001b[J1138        142000      0.00949537  \n",
      "\u001b[J1146        143000      0.00947457  \n",
      "\u001b[J1154        144000      0.00944124  \n",
      "\u001b[J1162        145000      0.00943067  \n",
      "\u001b[J1170        146000      0.00940585  \n",
      "\u001b[J1178        147000      0.00938323  \n",
      "\u001b[J1186        148000      0.00936689  \n",
      "\u001b[J1194        149000      0.00934805  \n",
      "\u001b[J1203        150000      0.00933522  \n",
      "\u001b[J1211        151000      0.00930238  \n",
      "\u001b[J1219        152000      0.00929259  \n",
      "\u001b[J1227        153000      0.00926936  \n",
      "\u001b[J1235        154000      0.00925152  \n",
      "\u001b[J1243        155000      0.00923439  \n",
      "\u001b[J1251        156000      0.00920573  \n",
      "\u001b[J1259        157000      0.00918726  \n",
      "\u001b[J1267        158000      0.00916705  \n",
      "\u001b[J1275        159000      0.00916516  \n",
      "\u001b[J1283        160000      0.00913304  \n",
      "\u001b[J1291        161000      0.00911804  \n",
      "\u001b[J1299        162000      0.00910466  \n",
      "\u001b[J1307        163000      0.00908725  \n",
      "\u001b[J1315        164000      0.00906749  \n",
      "\u001b[J1323        165000      0.00905377  \n",
      "\u001b[J1331        166000      0.0090399   \n",
      "\u001b[J1339        167000      0.00901073  \n",
      "\u001b[J1347        168000      0.00899475  \n",
      "\u001b[J1355        169000      0.00898045  \n",
      "\u001b[J1363        170000      0.00896537  \n",
      "\u001b[J1371        171000      0.00894435  \n",
      "\u001b[J1379        172000      0.0089331   \n",
      "\u001b[J1387        173000      0.0089201   \n",
      "\u001b[J1395        174000      0.00890969  \n",
      "\u001b[J1403        175000      0.00888512  \n",
      "\u001b[J1411        176000      0.00888269  \n",
      "\u001b[J1419        177000      0.00886522  \n",
      "\u001b[J1427        178000      0.00884662  \n",
      "\u001b[J1435        179000      0.00882816  \n",
      "\u001b[J1443        180000      0.00880722  \n",
      "\u001b[J1451        181000      0.00880143  \n",
      "\u001b[J1459        182000      0.00878936  \n",
      "\u001b[J1467        183000      0.00878401  \n",
      "\u001b[J1475        184000      0.0087616   \n",
      "\u001b[J1483        185000      0.00874798  \n",
      "\u001b[J1491        186000      0.00874022  \n",
      "\u001b[J1499        187000      0.00871413  \n",
      "\u001b[J1507        188000      0.00871071  \n",
      "\u001b[J1515        189000      0.00869542  \n",
      "\u001b[J1523        190000      0.00867693  \n",
      "\u001b[J1531        191000      0.00866449  \n",
      "\u001b[J1539        192000      0.00865712  \n",
      "\u001b[J1547        193000      0.00864763  \n",
      "\u001b[J1555        194000      0.00863858  \n",
      "\u001b[J1563        195000      0.00861817  \n",
      "\u001b[J1571        196000      0.00860533  \n",
      "\u001b[J1579        197000      0.00860041  \n",
      "\u001b[J1587        198000      0.00858187  \n",
      "\u001b[J1595        199000      0.00857401  \n",
      "\u001b[J1604        200000      0.00854983  \n",
      "\u001b[J1612        201000      0.00853723  \n",
      "\u001b[J1620        202000      0.0085261   \n",
      "\u001b[J1628        203000      0.00851914  \n",
      "\u001b[J1636        204000      0.00850226  \n",
      "\u001b[J1644        205000      0.00848665  \n",
      "\u001b[J1652        206000      0.00847078  \n",
      "\u001b[J1660        207000      0.00846169  \n",
      "\u001b[J1668        208000      0.00844989  \n",
      "\u001b[J1676        209000      0.00845114  \n",
      "\u001b[J1684        210000      0.00843624  \n",
      "\u001b[J1692        211000      0.00842425  \n",
      "\u001b[J1700        212000      0.00841627  \n",
      "\u001b[J1708        213000      0.00840013  \n",
      "\u001b[J1716        214000      0.00839514  \n",
      "\u001b[J1724        215000      0.00838752  \n",
      "\u001b[J1732        216000      0.00837637  \n",
      "\u001b[J1740        217000      0.00836408  \n",
      "\u001b[J1748        218000      0.00836237  \n",
      "\u001b[J1756        219000      0.00834803  \n",
      "\u001b[J1764        220000      0.00834675  \n",
      "\u001b[J1772        221000      0.00831921  \n",
      "\u001b[J1780        222000      0.00832168  \n",
      "\u001b[J1788        223000      0.00831596  \n",
      "\u001b[J1796        224000      0.00830227  \n",
      "\u001b[J1804        225000      0.00830478  \n",
      "\u001b[J1812        226000      0.00829255  \n",
      "\u001b[J1820        227000      0.0082844   \n",
      "\u001b[J1828        228000      0.00827877  \n",
      "\u001b[J1836        229000      0.00827293  \n",
      "\u001b[J1844        230000      0.00826235  \n",
      "\u001b[J1852        231000      0.00824892  \n",
      "\u001b[J1860        232000      0.00824816  \n",
      "\u001b[J1868        233000      0.00824209  \n",
      "\u001b[J1876        234000      0.00823419  \n",
      "\u001b[J1884        235000      0.00823056  \n",
      "\u001b[J1892        236000      0.0082064   \n",
      "\u001b[J1900        237000      0.00820756  \n",
      "\u001b[J1908        238000      0.00819591  \n",
      "\u001b[J1916        239000      0.00819066  \n",
      "\u001b[J1924        240000      0.00818448  \n",
      "\u001b[J1932        241000      0.00818217  \n",
      "\u001b[J1940        242000      0.00817683  \n",
      "\u001b[J1948        243000      0.00816524  \n",
      "\u001b[J1956        244000      0.00816453  \n",
      "\u001b[J1964        245000      0.0081519   \n",
      "\u001b[J1972        246000      0.0081494   \n",
      "\u001b[J1980        247000      0.00814846  \n",
      "\u001b[J1988        248000      0.00813816  \n",
      "\u001b[J1996        249000      0.00814037  \n",
      "\u001b[J2005        250000      0.00812467  \n",
      "\u001b[J2013        251000      0.00811675  \n",
      "\u001b[J2021        252000      0.00811194  \n",
      "\u001b[J2029        253000      0.00809851  \n",
      "\u001b[J2037        254000      0.0081014   \n",
      "\u001b[J2045        255000      0.00809267  \n",
      "\u001b[J2053        256000      0.00808813  \n",
      "\u001b[J2061        257000      0.00808214  \n",
      "\u001b[J2069        258000      0.00808465  \n",
      "\u001b[J2077        259000      0.00807285  \n",
      "\u001b[J2085        260000      0.00806745  \n",
      "\u001b[J2093        261000      0.0080699   \n",
      "\u001b[J2101        262000      0.00805894  \n",
      "\u001b[J2109        263000      0.00804629  \n",
      "\u001b[J2117        264000      0.0080458   \n",
      "\u001b[J2125        265000      0.00805062  \n",
      "\u001b[J2133        266000      0.00803563  \n",
      "\u001b[J2141        267000      0.00803583  \n",
      "\u001b[J2149        268000      0.00802025  \n",
      "\u001b[J2157        269000      0.00802612  \n",
      "\u001b[J2165        270000      0.00802191  \n",
      "\u001b[J2173        271000      0.00801673  \n",
      "\u001b[J2181        272000      0.00801204  \n",
      "\u001b[J2189        273000      0.00800686  \n",
      "\u001b[J2197        274000      0.00799569  \n",
      "\u001b[J2205        275000      0.0079924   \n",
      "\u001b[J2213        276000      0.0079894   \n",
      "\u001b[J2221        277000      0.00798055  \n",
      "\u001b[J2229        278000      0.00797441  \n",
      "\u001b[J2237        279000      0.00797011  \n",
      "\u001b[J2245        280000      0.00797055  \n",
      "\u001b[J2253        281000      0.00796572  \n",
      "\u001b[J2261        282000      0.00795347  \n",
      "\u001b[J2269        283000      0.00794857  \n",
      "\u001b[J2277        284000      0.00795546  \n",
      "\u001b[J2285        285000      0.00794779  \n",
      "\u001b[J2293        286000      0.00794373  \n",
      "\u001b[J2301        287000      0.00794625  \n",
      "\u001b[J2309        288000      0.00793482  \n",
      "\u001b[J2317        289000      0.00793101  \n",
      "\u001b[J2325        290000      0.0079225   \n",
      "\u001b[J2333        291000      0.00791951  \n",
      "\u001b[J2341        292000      0.00791944  \n",
      "\u001b[J2349        293000      0.0079135   \n",
      "\u001b[J2357        294000      0.00791128  \n",
      "\u001b[J2365        295000      0.00791056  \n",
      "\u001b[J2373        296000      0.00789877  \n",
      "\u001b[J2381        297000      0.00789657  \n",
      "\u001b[J2389        298000      0.00789346  \n",
      "\u001b[J2397        299000      0.00789172  \n",
      "\u001b[J2406        300000      0.00787898  \n",
      "\u001b[J2414        301000      0.00788384  \n",
      "\u001b[J2422        302000      0.00787828  \n",
      "\u001b[J2430        303000      0.00787087  \n",
      "\u001b[J2438        304000      0.00785838  \n",
      "\u001b[J2446        305000      0.00785038  \n",
      "\u001b[J2454        306000      0.00785819  \n",
      "\u001b[J2462        307000      0.00785282  \n",
      "\u001b[J2470        308000      0.00784726  \n",
      "\u001b[J2478        309000      0.00783903  \n",
      "\u001b[J2486        310000      0.0078398   \n",
      "\u001b[J2494        311000      0.00783367  \n",
      "\u001b[J2502        312000      0.00782262  \n",
      "\u001b[J2510        313000      0.00782205  \n",
      "\u001b[J2518        314000      0.00782349  \n",
      "\u001b[J2526        315000      0.00781946  \n",
      "\u001b[J2534        316000      0.00780597  \n",
      "\u001b[J2542        317000      0.00780749  \n",
      "\u001b[J2550        318000      0.0078003   \n",
      "\u001b[J2558        319000      0.00780047  \n",
      "\u001b[J2566        320000      0.00779573  \n",
      "\u001b[J2574        321000      0.00778336  \n",
      "\u001b[J2582        322000      0.00778753  \n",
      "\u001b[J2590        323000      0.00778872  \n",
      "\u001b[J2598        324000      0.0077814   \n",
      "\u001b[J2606        325000      0.00777588  \n",
      "\u001b[J2614        326000      0.00777401  \n",
      "\u001b[J2622        327000      0.00775924  \n",
      "\u001b[J2630        328000      0.00776389  \n",
      "\u001b[J2638        329000      0.00775773  \n",
      "\u001b[J2646        330000      0.00775318  \n",
      "\u001b[J2654        331000      0.00775459  \n",
      "\u001b[J2662        332000      0.00774859  \n",
      "\u001b[J2670        333000      0.00773849  \n",
      "\u001b[J2678        334000      0.00774787  \n",
      "\u001b[J2686        335000      0.00773797  \n",
      "\u001b[J2694        336000      0.00773594  \n",
      "\u001b[J2702        337000      0.00773668  \n",
      "\u001b[J2710        338000      0.0077246   \n",
      "\u001b[J2718        339000      0.00772172  \n",
      "\u001b[J2726        340000      0.00771973  \n",
      "\u001b[J2734        341000      0.00771927  \n",
      "\u001b[J2742        342000      0.00771074  \n",
      "\u001b[J2750        343000      0.00771191  \n",
      "\u001b[J2758        344000      0.00771139  \n",
      "\u001b[J2766        345000      0.00769789  \n",
      "\u001b[J2774        346000      0.00770075  \n",
      "\u001b[J2782        347000      0.00769339  \n",
      "\u001b[J2790        348000      0.00768894  \n",
      "\u001b[J2798        349000      0.00768808  \n",
      "\u001b[J2807        350000      0.00768747  \n",
      "\u001b[J2815        351000      0.00767622  \n",
      "\u001b[J2823        352000      0.00767942  \n",
      "\u001b[J2831        353000      0.00767351  \n",
      "\u001b[J2839        354000      0.00767267  \n",
      "\u001b[J2847        355000      0.00766988  \n",
      "\u001b[J2855        356000      0.00765912  \n",
      "\u001b[J2863        357000      0.00765429  \n",
      "\u001b[J2871        358000      0.00765306  \n",
      "\u001b[J2879        359000      0.00765386  \n",
      "\u001b[J2887        360000      0.00765269  \n",
      "\u001b[J2895        361000      0.00764851  \n",
      "\u001b[J2903        362000      0.00764671  \n",
      "\u001b[J2911        363000      0.00763582  \n",
      "\u001b[J2919        364000      0.00763762  \n",
      "\u001b[J2927        365000      0.00763482  \n",
      "\u001b[J2935        366000      0.00763377  \n",
      "\u001b[J2943        367000      0.00763415  \n",
      "\u001b[J2951        368000      0.00762852  \n",
      "\u001b[J2959        369000      0.00762549  \n",
      "\u001b[J2967        370000      0.00762326  \n",
      "\u001b[J2975        371000      0.00761773  \n",
      "\u001b[J2983        372000      0.00762333  \n",
      "\u001b[J2991        373000      0.00761384  \n",
      "\u001b[J2999        374000      0.0076016   \n"
     ]
    },
    {
     "name": "stderr",
     "output_type": "stream",
     "text": [
      "0it [00:00, ?it/s]"
     ]
    },
    {
     "name": "stdout",
     "output_type": "stream",
     "text": [
      "\n",
      "Searching best model...\n"
     ]
    },
    {
     "name": "stderr",
     "output_type": "stream",
     "text": [
      "50it [00:08,  5.92it/s]\n",
      "0it [00:00, ?it/s]"
     ]
    },
    {
     "name": "stdout",
     "output_type": "stream",
     "text": [
      "ittr 3000 val@1: 0\n"
     ]
    },
    {
     "name": "stderr",
     "output_type": "stream",
     "text": [
      "50it [00:08,  5.95it/s]\n",
      "0it [00:00, ?it/s]"
     ]
    },
    {
     "name": "stdout",
     "output_type": "stream",
     "text": [
      "ittr 6000 val@1: 0\n"
     ]
    },
    {
     "name": "stderr",
     "output_type": "stream",
     "text": [
      "50it [00:08,  5.98it/s]\n",
      "0it [00:00, ?it/s]"
     ]
    },
    {
     "name": "stdout",
     "output_type": "stream",
     "text": [
      "ittr 9000 val@1: 0.02\n"
     ]
    },
    {
     "name": "stderr",
     "output_type": "stream",
     "text": [
      "50it [00:08,  6.00it/s]\n",
      "0it [00:00, ?it/s]"
     ]
    },
    {
     "name": "stdout",
     "output_type": "stream",
     "text": [
      "ittr 12000 val@1: 0.02\n"
     ]
    },
    {
     "name": "stderr",
     "output_type": "stream",
     "text": [
      "50it [00:08,  6.04it/s]\n",
      "0it [00:00, ?it/s]"
     ]
    },
    {
     "name": "stdout",
     "output_type": "stream",
     "text": [
      "ittr 15000 val@1: 0.02\n"
     ]
    },
    {
     "name": "stderr",
     "output_type": "stream",
     "text": [
      "50it [00:08,  5.96it/s]\n",
      "0it [00:00, ?it/s]"
     ]
    },
    {
     "name": "stdout",
     "output_type": "stream",
     "text": [
      "ittr 18000 val@1: 0.04\n"
     ]
    },
    {
     "name": "stderr",
     "output_type": "stream",
     "text": [
      "50it [00:08,  5.97it/s]\n",
      "0it [00:00, ?it/s]"
     ]
    },
    {
     "name": "stdout",
     "output_type": "stream",
     "text": [
      "ittr 21000 val@1: 0.04\n"
     ]
    },
    {
     "name": "stderr",
     "output_type": "stream",
     "text": [
      "50it [00:07,  6.79it/s]\n",
      "0it [00:00, ?it/s]"
     ]
    },
    {
     "name": "stdout",
     "output_type": "stream",
     "text": [
      "ittr 24000 val@1: 0.04\n"
     ]
    },
    {
     "name": "stderr",
     "output_type": "stream",
     "text": [
      "50it [00:08,  6.11it/s]\n",
      "0it [00:00, ?it/s]"
     ]
    },
    {
     "name": "stdout",
     "output_type": "stream",
     "text": [
      "ittr 27000 val@1: 0.04\n"
     ]
    },
    {
     "name": "stderr",
     "output_type": "stream",
     "text": [
      "50it [00:08,  6.24it/s]\n",
      "0it [00:00, ?it/s]"
     ]
    },
    {
     "name": "stdout",
     "output_type": "stream",
     "text": [
      "ittr 30000 val@1: 0.04\n"
     ]
    },
    {
     "name": "stderr",
     "output_type": "stream",
     "text": [
      "50it [00:08,  6.09it/s]\n",
      "0it [00:00, ?it/s]"
     ]
    },
    {
     "name": "stdout",
     "output_type": "stream",
     "text": [
      "ittr 33000 val@1: 0.06\n"
     ]
    },
    {
     "name": "stderr",
     "output_type": "stream",
     "text": [
      "50it [00:08,  6.28it/s]\n",
      "0it [00:00, ?it/s]"
     ]
    },
    {
     "name": "stdout",
     "output_type": "stream",
     "text": [
      "ittr 36000 val@1: 0.06\n"
     ]
    },
    {
     "name": "stderr",
     "output_type": "stream",
     "text": [
      "50it [00:08,  5.90it/s]\n",
      "0it [00:00, ?it/s]"
     ]
    },
    {
     "name": "stdout",
     "output_type": "stream",
     "text": [
      "ittr 39000 val@1: 0.06\n"
     ]
    },
    {
     "name": "stderr",
     "output_type": "stream",
     "text": [
      "50it [00:08,  5.65it/s]\n",
      "0it [00:00, ?it/s]"
     ]
    },
    {
     "name": "stdout",
     "output_type": "stream",
     "text": [
      "ittr 42000 val@1: 0.06\n"
     ]
    },
    {
     "name": "stderr",
     "output_type": "stream",
     "text": [
      "50it [00:08,  6.11it/s]\n",
      "0it [00:00, ?it/s]"
     ]
    },
    {
     "name": "stdout",
     "output_type": "stream",
     "text": [
      "ittr 45000 val@1: 0.06\n"
     ]
    },
    {
     "name": "stderr",
     "output_type": "stream",
     "text": [
      "50it [00:08,  5.94it/s]\n",
      "0it [00:00, ?it/s]"
     ]
    },
    {
     "name": "stdout",
     "output_type": "stream",
     "text": [
      "ittr 48000 val@1: 0.08\n"
     ]
    },
    {
     "name": "stderr",
     "output_type": "stream",
     "text": [
      "50it [00:08,  5.71it/s]\n",
      "0it [00:00, ?it/s]"
     ]
    },
    {
     "name": "stdout",
     "output_type": "stream",
     "text": [
      "ittr 51000 val@1: 0.08\n"
     ]
    },
    {
     "name": "stderr",
     "output_type": "stream",
     "text": [
      "50it [00:08,  5.92it/s]\n",
      "0it [00:00, ?it/s]"
     ]
    },
    {
     "name": "stdout",
     "output_type": "stream",
     "text": [
      "ittr 54000 val@1: 0.08\n"
     ]
    },
    {
     "name": "stderr",
     "output_type": "stream",
     "text": [
      "50it [00:12,  2.10it/s]\n",
      "0it [00:00, ?it/s]"
     ]
    },
    {
     "name": "stdout",
     "output_type": "stream",
     "text": [
      "ittr 57000 val@1: 0.08\n"
     ]
    },
    {
     "name": "stderr",
     "output_type": "stream",
     "text": [
      "50it [00:09,  5.87it/s]\n",
      "0it [00:00, ?it/s]"
     ]
    },
    {
     "name": "stdout",
     "output_type": "stream",
     "text": [
      "ittr 60000 val@1: 0.08\n"
     ]
    },
    {
     "name": "stderr",
     "output_type": "stream",
     "text": [
      "50it [00:08,  5.90it/s]\n",
      "0it [00:00, ?it/s]"
     ]
    },
    {
     "name": "stdout",
     "output_type": "stream",
     "text": [
      "ittr 63000 val@1: 0.1\n"
     ]
    },
    {
     "name": "stderr",
     "output_type": "stream",
     "text": [
      "50it [00:08,  6.09it/s]\n",
      "0it [00:00, ?it/s]"
     ]
    },
    {
     "name": "stdout",
     "output_type": "stream",
     "text": [
      "ittr 66000 val@1: 0.1\n"
     ]
    },
    {
     "name": "stderr",
     "output_type": "stream",
     "text": [
      "50it [00:08,  5.49it/s]\n",
      "0it [00:00, ?it/s]"
     ]
    },
    {
     "name": "stdout",
     "output_type": "stream",
     "text": [
      "ittr 69000 val@1: 0.12\n"
     ]
    },
    {
     "name": "stderr",
     "output_type": "stream",
     "text": [
      "50it [00:08,  5.85it/s]\n",
      "0it [00:00, ?it/s]"
     ]
    },
    {
     "name": "stdout",
     "output_type": "stream",
     "text": [
      "ittr 72000 val@1: 0.12\n"
     ]
    },
    {
     "name": "stderr",
     "output_type": "stream",
     "text": [
      "50it [00:08,  6.27it/s]\n",
      "0it [00:00, ?it/s]"
     ]
    },
    {
     "name": "stdout",
     "output_type": "stream",
     "text": [
      "ittr 75000 val@1: 0.12\n"
     ]
    },
    {
     "name": "stderr",
     "output_type": "stream",
     "text": [
      "50it [00:08,  5.98it/s]\n",
      "0it [00:00, ?it/s]"
     ]
    },
    {
     "name": "stdout",
     "output_type": "stream",
     "text": [
      "ittr 78000 val@1: 0.1\n"
     ]
    },
    {
     "name": "stderr",
     "output_type": "stream",
     "text": [
      "50it [00:08,  6.17it/s]\n",
      "0it [00:00, ?it/s]"
     ]
    },
    {
     "name": "stdout",
     "output_type": "stream",
     "text": [
      "ittr 81000 val@1: 0.1\n"
     ]
    },
    {
     "name": "stderr",
     "output_type": "stream",
     "text": [
      "50it [00:07,  6.01it/s]\n",
      "0it [00:00, ?it/s]"
     ]
    },
    {
     "name": "stdout",
     "output_type": "stream",
     "text": [
      "ittr 84000 val@1: 0.12\n"
     ]
    },
    {
     "name": "stderr",
     "output_type": "stream",
     "text": [
      "50it [00:08,  5.74it/s]\n",
      "0it [00:00, ?it/s]"
     ]
    },
    {
     "name": "stdout",
     "output_type": "stream",
     "text": [
      "ittr 87000 val@1: 0.12\n"
     ]
    },
    {
     "name": "stderr",
     "output_type": "stream",
     "text": [
      "50it [00:08,  6.11it/s]\n",
      "0it [00:00, ?it/s]"
     ]
    },
    {
     "name": "stdout",
     "output_type": "stream",
     "text": [
      "ittr 90000 val@1: 0.12\n"
     ]
    },
    {
     "name": "stderr",
     "output_type": "stream",
     "text": [
      "50it [00:07,  6.15it/s]\n",
      "0it [00:00, ?it/s]"
     ]
    },
    {
     "name": "stdout",
     "output_type": "stream",
     "text": [
      "ittr 93000 val@1: 0.12\n"
     ]
    },
    {
     "name": "stderr",
     "output_type": "stream",
     "text": [
      "50it [00:08,  6.17it/s]\n",
      "0it [00:00, ?it/s]"
     ]
    },
    {
     "name": "stdout",
     "output_type": "stream",
     "text": [
      "ittr 96000 val@1: 0.12\n"
     ]
    },
    {
     "name": "stderr",
     "output_type": "stream",
     "text": [
      "50it [00:08,  5.94it/s]\n",
      "0it [00:00, ?it/s]"
     ]
    },
    {
     "name": "stdout",
     "output_type": "stream",
     "text": [
      "ittr 99000 val@1: 0.12\n"
     ]
    },
    {
     "name": "stderr",
     "output_type": "stream",
     "text": [
      "50it [00:08,  6.01it/s]\n",
      "0it [00:00, ?it/s]"
     ]
    },
    {
     "name": "stdout",
     "output_type": "stream",
     "text": [
      "ittr 102000 val@1: 0.12\n"
     ]
    },
    {
     "name": "stderr",
     "output_type": "stream",
     "text": [
      "50it [00:08,  5.96it/s]\n",
      "0it [00:00, ?it/s]"
     ]
    },
    {
     "name": "stdout",
     "output_type": "stream",
     "text": [
      "ittr 105000 val@1: 0.12\n"
     ]
    },
    {
     "name": "stderr",
     "output_type": "stream",
     "text": [
      "50it [00:08,  6.07it/s]\n",
      "0it [00:00, ?it/s]"
     ]
    },
    {
     "name": "stdout",
     "output_type": "stream",
     "text": [
      "ittr 108000 val@1: 0.16\n"
     ]
    },
    {
     "name": "stderr",
     "output_type": "stream",
     "text": [
      "50it [00:08,  5.88it/s]\n",
      "0it [00:00, ?it/s]"
     ]
    },
    {
     "name": "stdout",
     "output_type": "stream",
     "text": [
      "ittr 111000 val@1: 0.14\n"
     ]
    },
    {
     "name": "stderr",
     "output_type": "stream",
     "text": [
      "50it [00:08,  6.03it/s]\n",
      "0it [00:00, ?it/s]"
     ]
    },
    {
     "name": "stdout",
     "output_type": "stream",
     "text": [
      "ittr 114000 val@1: 0.14\n"
     ]
    },
    {
     "name": "stderr",
     "output_type": "stream",
     "text": [
      "50it [00:08,  6.08it/s]\n",
      "0it [00:00, ?it/s]"
     ]
    },
    {
     "name": "stdout",
     "output_type": "stream",
     "text": [
      "ittr 117000 val@1: 0.16\n"
     ]
    },
    {
     "name": "stderr",
     "output_type": "stream",
     "text": [
      "50it [00:08,  5.79it/s]\n",
      "0it [00:00, ?it/s]"
     ]
    },
    {
     "name": "stdout",
     "output_type": "stream",
     "text": [
      "ittr 120000 val@1: 0.16\n"
     ]
    },
    {
     "name": "stderr",
     "output_type": "stream",
     "text": [
      "50it [00:08,  6.13it/s]\n",
      "0it [00:00, ?it/s]"
     ]
    },
    {
     "name": "stdout",
     "output_type": "stream",
     "text": [
      "ittr 123000 val@1: 0.14\n"
     ]
    },
    {
     "name": "stderr",
     "output_type": "stream",
     "text": [
      "50it [00:08,  6.06it/s]\n",
      "0it [00:00, ?it/s]"
     ]
    },
    {
     "name": "stdout",
     "output_type": "stream",
     "text": [
      "ittr 126000 val@1: 0.14\n"
     ]
    },
    {
     "name": "stderr",
     "output_type": "stream",
     "text": [
      "50it [00:08,  5.87it/s]\n",
      "0it [00:00, ?it/s]"
     ]
    },
    {
     "name": "stdout",
     "output_type": "stream",
     "text": [
      "ittr 129000 val@1: 0.16\n"
     ]
    },
    {
     "name": "stderr",
     "output_type": "stream",
     "text": [
      "50it [00:08,  5.68it/s]\n",
      "0it [00:00, ?it/s]"
     ]
    },
    {
     "name": "stdout",
     "output_type": "stream",
     "text": [
      "ittr 132000 val@1: 0.14\n"
     ]
    },
    {
     "name": "stderr",
     "output_type": "stream",
     "text": [
      "50it [00:08,  5.91it/s]\n",
      "0it [00:00, ?it/s]"
     ]
    },
    {
     "name": "stdout",
     "output_type": "stream",
     "text": [
      "ittr 135000 val@1: 0.18\n"
     ]
    },
    {
     "name": "stderr",
     "output_type": "stream",
     "text": [
      "50it [00:08,  6.08it/s]\n",
      "0it [00:00, ?it/s]"
     ]
    },
    {
     "name": "stdout",
     "output_type": "stream",
     "text": [
      "ittr 138000 val@1: 0.18\n"
     ]
    },
    {
     "name": "stderr",
     "output_type": "stream",
     "text": [
      "50it [00:08,  6.01it/s]\n",
      "0it [00:00, ?it/s]"
     ]
    },
    {
     "name": "stdout",
     "output_type": "stream",
     "text": [
      "ittr 141000 val@1: 0.2\n"
     ]
    },
    {
     "name": "stderr",
     "output_type": "stream",
     "text": [
      "50it [00:08,  6.00it/s]\n",
      "0it [00:00, ?it/s]"
     ]
    },
    {
     "name": "stdout",
     "output_type": "stream",
     "text": [
      "ittr 144000 val@1: 0.2\n"
     ]
    },
    {
     "name": "stderr",
     "output_type": "stream",
     "text": [
      "50it [00:08,  5.94it/s]\n",
      "0it [00:00, ?it/s]"
     ]
    },
    {
     "name": "stdout",
     "output_type": "stream",
     "text": [
      "ittr 147000 val@1: 0.2\n"
     ]
    },
    {
     "name": "stderr",
     "output_type": "stream",
     "text": [
      "50it [00:08,  5.60it/s]\n",
      "0it [00:00, ?it/s]"
     ]
    },
    {
     "name": "stdout",
     "output_type": "stream",
     "text": [
      "ittr 150000 val@1: 0.22\n"
     ]
    },
    {
     "name": "stderr",
     "output_type": "stream",
     "text": [
      "50it [00:08,  5.92it/s]\n",
      "0it [00:00, ?it/s]"
     ]
    },
    {
     "name": "stdout",
     "output_type": "stream",
     "text": [
      "ittr 153000 val@1: 0.24\n"
     ]
    },
    {
     "name": "stderr",
     "output_type": "stream",
     "text": [
      "50it [00:08,  5.42it/s]\n",
      "0it [00:00, ?it/s]"
     ]
    },
    {
     "name": "stdout",
     "output_type": "stream",
     "text": [
      "ittr 156000 val@1: 0.34\n"
     ]
    },
    {
     "name": "stderr",
     "output_type": "stream",
     "text": [
      "50it [00:08,  5.63it/s]\n",
      "0it [00:00, ?it/s]"
     ]
    },
    {
     "name": "stdout",
     "output_type": "stream",
     "text": [
      "ittr 159000 val@1: 0.26\n"
     ]
    },
    {
     "name": "stderr",
     "output_type": "stream",
     "text": [
      "50it [00:08,  5.68it/s]\n",
      "0it [00:00, ?it/s]"
     ]
    },
    {
     "name": "stdout",
     "output_type": "stream",
     "text": [
      "ittr 162000 val@1: 0.36\n"
     ]
    },
    {
     "name": "stderr",
     "output_type": "stream",
     "text": [
      "50it [00:08,  5.99it/s]\n",
      "0it [00:00, ?it/s]"
     ]
    },
    {
     "name": "stdout",
     "output_type": "stream",
     "text": [
      "ittr 165000 val@1: 0.34\n"
     ]
    },
    {
     "name": "stderr",
     "output_type": "stream",
     "text": [
      "50it [00:08,  6.15it/s]\n",
      "0it [00:00, ?it/s]"
     ]
    },
    {
     "name": "stdout",
     "output_type": "stream",
     "text": [
      "ittr 168000 val@1: 0.34\n"
     ]
    },
    {
     "name": "stderr",
     "output_type": "stream",
     "text": [
      "50it [00:08,  6.21it/s]\n",
      "0it [00:00, ?it/s]"
     ]
    },
    {
     "name": "stdout",
     "output_type": "stream",
     "text": [
      "ittr 171000 val@1: 0.32\n"
     ]
    },
    {
     "name": "stderr",
     "output_type": "stream",
     "text": [
      "50it [00:08,  5.81it/s]\n",
      "0it [00:00, ?it/s]"
     ]
    },
    {
     "name": "stdout",
     "output_type": "stream",
     "text": [
      "ittr 174000 val@1: 0.34\n"
     ]
    },
    {
     "name": "stderr",
     "output_type": "stream",
     "text": [
      "50it [00:08,  5.80it/s]\n",
      "0it [00:00, ?it/s]"
     ]
    },
    {
     "name": "stdout",
     "output_type": "stream",
     "text": [
      "ittr 177000 val@1: 0.34\n"
     ]
    },
    {
     "name": "stderr",
     "output_type": "stream",
     "text": [
      "50it [00:07,  5.99it/s]\n",
      "0it [00:00, ?it/s]"
     ]
    },
    {
     "name": "stdout",
     "output_type": "stream",
     "text": [
      "ittr 180000 val@1: 0.36\n"
     ]
    },
    {
     "name": "stderr",
     "output_type": "stream",
     "text": [
      "50it [00:08,  5.87it/s]\n",
      "0it [00:00, ?it/s]"
     ]
    },
    {
     "name": "stdout",
     "output_type": "stream",
     "text": [
      "ittr 183000 val@1: 0.4\n"
     ]
    },
    {
     "name": "stderr",
     "output_type": "stream",
     "text": [
      "50it [00:08,  6.13it/s]\n",
      "0it [00:00, ?it/s]"
     ]
    },
    {
     "name": "stdout",
     "output_type": "stream",
     "text": [
      "ittr 186000 val@1: 0.4\n"
     ]
    },
    {
     "name": "stderr",
     "output_type": "stream",
     "text": [
      "50it [00:08,  6.31it/s]\n",
      "0it [00:00, ?it/s]"
     ]
    },
    {
     "name": "stdout",
     "output_type": "stream",
     "text": [
      "ittr 189000 val@1: 0.4\n"
     ]
    },
    {
     "name": "stderr",
     "output_type": "stream",
     "text": [
      "50it [00:08,  5.83it/s]\n",
      "0it [00:00, ?it/s]"
     ]
    },
    {
     "name": "stdout",
     "output_type": "stream",
     "text": [
      "ittr 192000 val@1: 0.4\n"
     ]
    },
    {
     "name": "stderr",
     "output_type": "stream",
     "text": [
      "50it [00:08,  5.86it/s]\n",
      "0it [00:00, ?it/s]"
     ]
    },
    {
     "name": "stdout",
     "output_type": "stream",
     "text": [
      "ittr 195000 val@1: 0.38\n"
     ]
    },
    {
     "name": "stderr",
     "output_type": "stream",
     "text": [
      "50it [00:08,  4.67it/s]\n",
      "0it [00:00, ?it/s]"
     ]
    },
    {
     "name": "stdout",
     "output_type": "stream",
     "text": [
      "ittr 198000 val@1: 0.4\n"
     ]
    },
    {
     "name": "stderr",
     "output_type": "stream",
     "text": [
      "50it [00:08,  5.87it/s]\n",
      "0it [00:00, ?it/s]"
     ]
    },
    {
     "name": "stdout",
     "output_type": "stream",
     "text": [
      "ittr 201000 val@1: 0.38\n"
     ]
    },
    {
     "name": "stderr",
     "output_type": "stream",
     "text": [
      "50it [00:08,  6.00it/s]\n",
      "0it [00:00, ?it/s]"
     ]
    },
    {
     "name": "stdout",
     "output_type": "stream",
     "text": [
      "ittr 204000 val@1: 0.42\n"
     ]
    },
    {
     "name": "stderr",
     "output_type": "stream",
     "text": [
      "50it [00:08,  6.22it/s]\n",
      "0it [00:00, ?it/s]"
     ]
    },
    {
     "name": "stdout",
     "output_type": "stream",
     "text": [
      "ittr 207000 val@1: 0.4\n"
     ]
    },
    {
     "name": "stderr",
     "output_type": "stream",
     "text": [
      "50it [00:08,  5.79it/s]\n",
      "0it [00:00, ?it/s]"
     ]
    },
    {
     "name": "stdout",
     "output_type": "stream",
     "text": [
      "ittr 210000 val@1: 0.4\n"
     ]
    },
    {
     "name": "stderr",
     "output_type": "stream",
     "text": [
      "50it [00:08,  6.04it/s]\n",
      "0it [00:00, ?it/s]"
     ]
    },
    {
     "name": "stdout",
     "output_type": "stream",
     "text": [
      "ittr 213000 val@1: 0.42\n"
     ]
    },
    {
     "name": "stderr",
     "output_type": "stream",
     "text": [
      "50it [00:08,  6.20it/s]\n",
      "0it [00:00, ?it/s]"
     ]
    },
    {
     "name": "stdout",
     "output_type": "stream",
     "text": [
      "ittr 216000 val@1: 0.42\n"
     ]
    },
    {
     "name": "stderr",
     "output_type": "stream",
     "text": [
      "50it [00:08,  5.48it/s]\n",
      "0it [00:00, ?it/s]"
     ]
    },
    {
     "name": "stdout",
     "output_type": "stream",
     "text": [
      "ittr 219000 val@1: 0.42\n"
     ]
    },
    {
     "name": "stderr",
     "output_type": "stream",
     "text": [
      "50it [00:08,  6.24it/s]\n",
      "0it [00:00, ?it/s]"
     ]
    },
    {
     "name": "stdout",
     "output_type": "stream",
     "text": [
      "ittr 222000 val@1: 0.42\n"
     ]
    },
    {
     "name": "stderr",
     "output_type": "stream",
     "text": [
      "50it [00:08,  6.06it/s]\n",
      "0it [00:00, ?it/s]"
     ]
    },
    {
     "name": "stdout",
     "output_type": "stream",
     "text": [
      "ittr 225000 val@1: 0.42\n"
     ]
    },
    {
     "name": "stderr",
     "output_type": "stream",
     "text": [
      "50it [00:08,  6.04it/s]\n",
      "0it [00:00, ?it/s]"
     ]
    },
    {
     "name": "stdout",
     "output_type": "stream",
     "text": [
      "ittr 228000 val@1: 0.42\n"
     ]
    },
    {
     "name": "stderr",
     "output_type": "stream",
     "text": [
      "50it [00:08,  6.01it/s]\n",
      "0it [00:00, ?it/s]"
     ]
    },
    {
     "name": "stdout",
     "output_type": "stream",
     "text": [
      "ittr 231000 val@1: 0.42\n"
     ]
    },
    {
     "name": "stderr",
     "output_type": "stream",
     "text": [
      "50it [00:08,  6.02it/s]\n",
      "0it [00:00, ?it/s]"
     ]
    },
    {
     "name": "stdout",
     "output_type": "stream",
     "text": [
      "ittr 234000 val@1: 0.42\n"
     ]
    },
    {
     "name": "stderr",
     "output_type": "stream",
     "text": [
      "50it [00:08,  6.00it/s]\n",
      "0it [00:00, ?it/s]"
     ]
    },
    {
     "name": "stdout",
     "output_type": "stream",
     "text": [
      "ittr 237000 val@1: 0.42\n"
     ]
    },
    {
     "name": "stderr",
     "output_type": "stream",
     "text": [
      "50it [00:08,  6.33it/s]\n",
      "0it [00:00, ?it/s]"
     ]
    },
    {
     "name": "stdout",
     "output_type": "stream",
     "text": [
      "ittr 240000 val@1: 0.42\n"
     ]
    },
    {
     "name": "stderr",
     "output_type": "stream",
     "text": [
      "50it [00:08,  5.88it/s]\n",
      "0it [00:00, ?it/s]"
     ]
    },
    {
     "name": "stdout",
     "output_type": "stream",
     "text": [
      "ittr 243000 val@1: 0.4\n"
     ]
    },
    {
     "name": "stderr",
     "output_type": "stream",
     "text": [
      "50it [00:08,  6.07it/s]\n",
      "0it [00:00, ?it/s]"
     ]
    },
    {
     "name": "stdout",
     "output_type": "stream",
     "text": [
      "ittr 246000 val@1: 0.42\n"
     ]
    },
    {
     "name": "stderr",
     "output_type": "stream",
     "text": [
      "50it [00:08,  5.81it/s]\n",
      "0it [00:00, ?it/s]"
     ]
    },
    {
     "name": "stdout",
     "output_type": "stream",
     "text": [
      "ittr 249000 val@1: 0.42\n"
     ]
    },
    {
     "name": "stderr",
     "output_type": "stream",
     "text": [
      "50it [00:08,  6.18it/s]\n",
      "0it [00:00, ?it/s]"
     ]
    },
    {
     "name": "stdout",
     "output_type": "stream",
     "text": [
      "ittr 252000 val@1: 0.42\n"
     ]
    },
    {
     "name": "stderr",
     "output_type": "stream",
     "text": [
      "50it [00:08,  6.19it/s]\n",
      "0it [00:00, ?it/s]"
     ]
    },
    {
     "name": "stdout",
     "output_type": "stream",
     "text": [
      "ittr 255000 val@1: 0.42\n"
     ]
    },
    {
     "name": "stderr",
     "output_type": "stream",
     "text": [
      "50it [00:08,  6.13it/s]\n",
      "0it [00:00, ?it/s]"
     ]
    },
    {
     "name": "stdout",
     "output_type": "stream",
     "text": [
      "ittr 258000 val@1: 0.42\n"
     ]
    },
    {
     "name": "stderr",
     "output_type": "stream",
     "text": [
      "50it [00:08,  5.90it/s]\n",
      "0it [00:00, ?it/s]"
     ]
    },
    {
     "name": "stdout",
     "output_type": "stream",
     "text": [
      "ittr 261000 val@1: 0.42\n"
     ]
    },
    {
     "name": "stderr",
     "output_type": "stream",
     "text": [
      "50it [00:08,  5.88it/s]\n",
      "0it [00:00, ?it/s]"
     ]
    },
    {
     "name": "stdout",
     "output_type": "stream",
     "text": [
      "ittr 264000 val@1: 0.38\n"
     ]
    },
    {
     "name": "stderr",
     "output_type": "stream",
     "text": [
      "50it [00:08,  5.96it/s]\n",
      "0it [00:00, ?it/s]"
     ]
    },
    {
     "name": "stdout",
     "output_type": "stream",
     "text": [
      "ittr 267000 val@1: 0.42\n"
     ]
    },
    {
     "name": "stderr",
     "output_type": "stream",
     "text": [
      "50it [00:08,  5.41it/s]\n",
      "0it [00:00, ?it/s]"
     ]
    },
    {
     "name": "stdout",
     "output_type": "stream",
     "text": [
      "ittr 270000 val@1: 0.4\n"
     ]
    },
    {
     "name": "stderr",
     "output_type": "stream",
     "text": [
      "50it [00:08,  6.29it/s]\n",
      "0it [00:00, ?it/s]"
     ]
    },
    {
     "name": "stdout",
     "output_type": "stream",
     "text": [
      "ittr 273000 val@1: 0.4\n"
     ]
    },
    {
     "name": "stderr",
     "output_type": "stream",
     "text": [
      "50it [00:08,  5.93it/s]\n",
      "0it [00:00, ?it/s]"
     ]
    },
    {
     "name": "stdout",
     "output_type": "stream",
     "text": [
      "ittr 276000 val@1: 0.42\n"
     ]
    },
    {
     "name": "stderr",
     "output_type": "stream",
     "text": [
      "50it [00:08,  5.60it/s]\n",
      "0it [00:00, ?it/s]"
     ]
    },
    {
     "name": "stdout",
     "output_type": "stream",
     "text": [
      "ittr 279000 val@1: 0.42\n"
     ]
    },
    {
     "name": "stderr",
     "output_type": "stream",
     "text": [
      "50it [00:08,  5.93it/s]\n",
      "0it [00:00, ?it/s]"
     ]
    },
    {
     "name": "stdout",
     "output_type": "stream",
     "text": [
      "ittr 282000 val@1: 0.42\n"
     ]
    },
    {
     "name": "stderr",
     "output_type": "stream",
     "text": [
      "50it [00:08,  6.02it/s]\n",
      "0it [00:00, ?it/s]"
     ]
    },
    {
     "name": "stdout",
     "output_type": "stream",
     "text": [
      "ittr 285000 val@1: 0.4\n"
     ]
    },
    {
     "name": "stderr",
     "output_type": "stream",
     "text": [
      "50it [00:08,  5.94it/s]\n",
      "0it [00:00, ?it/s]"
     ]
    },
    {
     "name": "stdout",
     "output_type": "stream",
     "text": [
      "ittr 288000 val@1: 0.42\n"
     ]
    },
    {
     "name": "stderr",
     "output_type": "stream",
     "text": [
      "50it [00:08,  5.95it/s]\n",
      "0it [00:00, ?it/s]"
     ]
    },
    {
     "name": "stdout",
     "output_type": "stream",
     "text": [
      "ittr 291000 val@1: 0.42\n"
     ]
    },
    {
     "name": "stderr",
     "output_type": "stream",
     "text": [
      "50it [00:08,  5.88it/s]\n",
      "0it [00:00, ?it/s]"
     ]
    },
    {
     "name": "stdout",
     "output_type": "stream",
     "text": [
      "ittr 294000 val@1: 0.42\n"
     ]
    },
    {
     "name": "stderr",
     "output_type": "stream",
     "text": [
      "50it [00:07,  5.99it/s]\n",
      "0it [00:00, ?it/s]"
     ]
    },
    {
     "name": "stdout",
     "output_type": "stream",
     "text": [
      "ittr 297000 val@1: 0.42\n"
     ]
    },
    {
     "name": "stderr",
     "output_type": "stream",
     "text": [
      "50it [00:08,  6.08it/s]\n",
      "0it [00:00, ?it/s]"
     ]
    },
    {
     "name": "stdout",
     "output_type": "stream",
     "text": [
      "ittr 300000 val@1: 0.42\n"
     ]
    },
    {
     "name": "stderr",
     "output_type": "stream",
     "text": [
      "50it [00:08,  6.27it/s]\n",
      "0it [00:00, ?it/s]"
     ]
    },
    {
     "name": "stdout",
     "output_type": "stream",
     "text": [
      "ittr 303000 val@1: 0.42\n"
     ]
    },
    {
     "name": "stderr",
     "output_type": "stream",
     "text": [
      "50it [00:08,  6.00it/s]\n",
      "0it [00:00, ?it/s]"
     ]
    },
    {
     "name": "stdout",
     "output_type": "stream",
     "text": [
      "ittr 306000 val@1: 0.42\n"
     ]
    },
    {
     "name": "stderr",
     "output_type": "stream",
     "text": [
      "50it [00:08,  5.88it/s]\n",
      "0it [00:00, ?it/s]"
     ]
    },
    {
     "name": "stdout",
     "output_type": "stream",
     "text": [
      "ittr 309000 val@1: 0.42\n"
     ]
    },
    {
     "name": "stderr",
     "output_type": "stream",
     "text": [
      "50it [00:08,  6.18it/s]\n",
      "0it [00:00, ?it/s]"
     ]
    },
    {
     "name": "stdout",
     "output_type": "stream",
     "text": [
      "ittr 312000 val@1: 0.42\n"
     ]
    },
    {
     "name": "stderr",
     "output_type": "stream",
     "text": [
      "50it [00:08,  5.95it/s]\n",
      "0it [00:00, ?it/s]"
     ]
    },
    {
     "name": "stdout",
     "output_type": "stream",
     "text": [
      "ittr 315000 val@1: 0.42\n"
     ]
    },
    {
     "name": "stderr",
     "output_type": "stream",
     "text": [
      "50it [00:08,  6.03it/s]\n",
      "0it [00:00, ?it/s]"
     ]
    },
    {
     "name": "stdout",
     "output_type": "stream",
     "text": [
      "ittr 318000 val@1: 0.42\n"
     ]
    },
    {
     "name": "stderr",
     "output_type": "stream",
     "text": [
      "50it [00:08,  6.01it/s]\n",
      "0it [00:00, ?it/s]"
     ]
    },
    {
     "name": "stdout",
     "output_type": "stream",
     "text": [
      "ittr 321000 val@1: 0.42\n"
     ]
    },
    {
     "name": "stderr",
     "output_type": "stream",
     "text": [
      "50it [00:08,  5.55it/s]\n",
      "0it [00:00, ?it/s]"
     ]
    },
    {
     "name": "stdout",
     "output_type": "stream",
     "text": [
      "ittr 324000 val@1: 0.42\n"
     ]
    },
    {
     "name": "stderr",
     "output_type": "stream",
     "text": [
      "50it [00:08,  5.73it/s]\n",
      "0it [00:00, ?it/s]"
     ]
    },
    {
     "name": "stdout",
     "output_type": "stream",
     "text": [
      "ittr 327000 val@1: 0.42\n"
     ]
    },
    {
     "name": "stderr",
     "output_type": "stream",
     "text": [
      "50it [00:08,  5.66it/s]\n",
      "0it [00:00, ?it/s]"
     ]
    },
    {
     "name": "stdout",
     "output_type": "stream",
     "text": [
      "ittr 330000 val@1: 0.42\n"
     ]
    },
    {
     "name": "stderr",
     "output_type": "stream",
     "text": [
      "50it [00:08,  5.82it/s]\n",
      "0it [00:00, ?it/s]"
     ]
    },
    {
     "name": "stdout",
     "output_type": "stream",
     "text": [
      "ittr 333000 val@1: 0.42\n"
     ]
    },
    {
     "name": "stderr",
     "output_type": "stream",
     "text": [
      "50it [00:08,  5.91it/s]\n",
      "0it [00:00, ?it/s]"
     ]
    },
    {
     "name": "stdout",
     "output_type": "stream",
     "text": [
      "ittr 336000 val@1: 0.42\n"
     ]
    },
    {
     "name": "stderr",
     "output_type": "stream",
     "text": [
      "50it [00:08,  5.83it/s]\n",
      "0it [00:00, ?it/s]"
     ]
    },
    {
     "name": "stdout",
     "output_type": "stream",
     "text": [
      "ittr 339000 val@1: 0.42\n"
     ]
    },
    {
     "name": "stderr",
     "output_type": "stream",
     "text": [
      "50it [00:08,  5.54it/s]\n",
      "0it [00:00, ?it/s]"
     ]
    },
    {
     "name": "stdout",
     "output_type": "stream",
     "text": [
      "ittr 342000 val@1: 0.42\n"
     ]
    },
    {
     "name": "stderr",
     "output_type": "stream",
     "text": [
      "50it [00:08,  4.74it/s]\n",
      "0it [00:00, ?it/s]"
     ]
    },
    {
     "name": "stdout",
     "output_type": "stream",
     "text": [
      "ittr 345000 val@1: 0.42\n"
     ]
    },
    {
     "name": "stderr",
     "output_type": "stream",
     "text": [
      "50it [00:10,  5.31it/s]\n",
      "0it [00:00, ?it/s]"
     ]
    },
    {
     "name": "stdout",
     "output_type": "stream",
     "text": [
      "ittr 348000 val@1: 0.42\n"
     ]
    },
    {
     "name": "stderr",
     "output_type": "stream",
     "text": [
      "50it [00:09,  5.47it/s]\n",
      "0it [00:00, ?it/s]"
     ]
    },
    {
     "name": "stdout",
     "output_type": "stream",
     "text": [
      "ittr 351000 val@1: 0.42\n"
     ]
    },
    {
     "name": "stderr",
     "output_type": "stream",
     "text": [
      "50it [00:09,  7.98it/s]\n",
      "1it [00:00,  7.09it/s]"
     ]
    },
    {
     "name": "stdout",
     "output_type": "stream",
     "text": [
      "ittr 354000 val@1: 0.42\n"
     ]
    },
    {
     "name": "stderr",
     "output_type": "stream",
     "text": [
      "50it [00:07,  7.94it/s]\n",
      "1it [00:00,  7.39it/s]"
     ]
    },
    {
     "name": "stdout",
     "output_type": "stream",
     "text": [
      "ittr 357000 val@1: 0.42\n"
     ]
    },
    {
     "name": "stderr",
     "output_type": "stream",
     "text": [
      "50it [00:06,  8.27it/s]\n",
      "0it [00:00, ?it/s]"
     ]
    },
    {
     "name": "stdout",
     "output_type": "stream",
     "text": [
      "ittr 360000 val@1: 0.42\n"
     ]
    },
    {
     "name": "stderr",
     "output_type": "stream",
     "text": [
      "50it [00:05,  9.03it/s]\n",
      "1it [00:00,  8.08it/s]"
     ]
    },
    {
     "name": "stdout",
     "output_type": "stream",
     "text": [
      "ittr 363000 val@1: 0.44\n"
     ]
    },
    {
     "name": "stderr",
     "output_type": "stream",
     "text": [
      "50it [00:05,  9.14it/s]\n",
      "1it [00:00,  8.13it/s]"
     ]
    },
    {
     "name": "stdout",
     "output_type": "stream",
     "text": [
      "ittr 366000 val@1: 0.42\n"
     ]
    },
    {
     "name": "stderr",
     "output_type": "stream",
     "text": [
      "50it [00:05,  8.84it/s]\n",
      "1it [00:00,  7.11it/s]"
     ]
    },
    {
     "name": "stdout",
     "output_type": "stream",
     "text": [
      "ittr 369000 val@1: 0.42\n",
      "best ittr:  363000\n",
      "best acc  :  0.44\n",
      "\n",
      "calculating accuracies...\n",
      "\tz:  singular-plural_140\n"
     ]
    },
    {
     "name": "stderr",
     "output_type": "stream",
     "text": [
      "180it [00:21,  8.65it/s]\n",
      "1it [00:00,  8.44it/s]"
     ]
    },
    {
     "name": "stdout",
     "output_type": "stream",
     "text": [
      "train@1: 1\n",
      "train@2: 1\n",
      "train@3: 1\n"
     ]
    },
    {
     "name": "stderr",
     "output_type": "stream",
     "text": [
      "50it [00:06,  8.50it/s]\n",
      "1it [00:00,  8.55it/s]"
     ]
    },
    {
     "name": "stdout",
     "output_type": "stream",
     "text": [
      "val@1: 0.44\n",
      "val@2: 0.74\n",
      "val@3: 0.82\n"
     ]
    },
    {
     "name": "stderr",
     "output_type": "stream",
     "text": [
      "50it [00:05,  8.37it/s]\n",
      "  0%|          | 1/1000 [00:00<02:16,  7.32it/s]"
     ]
    },
    {
     "name": "stdout",
     "output_type": "stream",
     "text": [
      "test@1: 0.46\n",
      "test@2: 0.92\n",
      "test@3: 0.94\n",
      "\n",
      "calculating stability score...\n",
      "\tz:  singular-plural_140\n"
     ]
    },
    {
     "name": "stderr",
     "output_type": "stream",
     "text": [
      "100%|██████████| 1000/1000 [02:59<00:00,  7.74it/s]\n"
     ]
    },
    {
     "name": "stdout",
     "output_type": "stream",
     "text": [
      "stability@1: 0.999\n",
      "stability@2: 1\n",
      "stability@3: 1\n",
      "\n",
      "saving results and experimental settings...\n",
      "done.\n",
      "CPU times: user 5h 52min 12s, sys: 21min 17s, total: 6h 13min 29s\n",
      "Wall time: 4h 1min 54s\n"
     ]
    }
   ],
   "source": [
    "# Now\n",
    "now = str(datetime.datetime.today()).replace(' ', '_').replace(':', '-').replace('.', '_')\n",
    "print(now)\n",
    "\n",
    "# Reset parametors of net\n",
    "seed = 0\n",
    "data_loader.reset_seed(seed)\n",
    "\n",
    "# Set up a neural network to train\n",
    "dim_x = 300 # Dim of word2vec/GloVe\n",
    "dim_h = 300 # Dim of MLP hidden layers\n",
    "datasets = ['singular-plural_140'] # male-female_53, singular-plural_140, capital-country_109\n",
    "n_attribute = len(datasets)\n",
    "sigma = 0.1\n",
    "net = nets.Ref_PM(dim_x, dim_h, n_attribute, sigma) \n",
    "\n",
    "experiment_name = 'Ref+PM_{}'.format(now)\n",
    "# Settings\n",
    "settings = {'experiment_name':experiment_name, \n",
    "            'word2vec':word2vec,\n",
    "            'num_N_train':10, # non-attribute words\n",
    "            'num_N_test':1000, # non-attribute words\n",
    "            'n_argument':20,\n",
    "            'batchsize':32, \n",
    "            'epoch':3000, \n",
    "            'alpha':0.0001, \n",
    "            'datasets':datasets,\n",
    "            'n_attribute':n_attribute,\n",
    "            'n_top':[1,2,3],\n",
    "            'gpu':gpu,\n",
    "            'model':{'net':net,\n",
    "                     'name':net.net_name, \n",
    "                     'dim_x':dim_x, \n",
    "                     'dim_h':dim_h, \n",
    "                     'n_attribute':n_attribute, \n",
    "                     'sigma':net.sigma,\n",
    "                     'reset_seed':seed},\n",
    "            'updater':{'updater':updater.AttributeTransferUpdater1,\n",
    "                       'name':updater.AttributeTransferUpdater1.__name__},\n",
    "            'resume':'',\n",
    "            'out':'{}/result/{}/net'.format(path_out, experiment_name),\n",
    "            'path_dataset':path_dataset,\n",
    "            'snapshot_interval':3000,\n",
    "            'display_interval':1000,\n",
    "            'other_info':{'when':now},\n",
    "            'post_process':{'best_model':True, 'acc':True, 'stb':True, 'save_results':True, 'train':True},\n",
    "            'embedding_method':embedding,\n",
    "           }\n",
    "\n",
    "# Experiment\n",
    "%time experiment.experiment1(settings)"
   ]
  },
  {
   "cell_type": "markdown",
   "metadata": {
    "colab_type": "text",
    "id": "Q19jBniQl5jK"
   },
   "source": [
    "## Country-Capital"
   ]
  },
  {
   "cell_type": "code",
   "execution_count": 36,
   "metadata": {
    "colab": {},
    "colab_type": "code",
    "id": "lHkruluxl5jK",
    "outputId": "86872ca6-5fe6-4448-a831-4c823bc7e4ca"
   },
   "outputs": [
    {
     "name": "stdout",
     "output_type": "stream",
     "text": [
      "2020-03-22_20-55-38_091371\n",
      "Loading dataset...\n",
      "Dataset was loaded.\n",
      "epoch       iteration   net/loss  \n",
      "\u001b[J12          1000        0.048057    \n",
      "\u001b[J25          2000        0.0170267   \n",
      "\u001b[J38          3000        0.013099    \n",
      "\u001b[J51          4000        0.0120198   \n",
      "\u001b[J64          5000        0.0115425   \n",
      "\u001b[J77          6000        0.0112527   \n",
      "\u001b[J90          7000        0.0110711   \n",
      "\u001b[J103         8000        0.0109292   \n",
      "\u001b[J116         9000        0.0108358   \n",
      "\u001b[J129         10000       0.0107464   \n",
      "\u001b[J142         11000       0.0106764   \n",
      "\u001b[J154         12000       0.0106136   \n",
      "\u001b[J167         13000       0.0105678   \n",
      "\u001b[J180         14000       0.0105286   \n",
      "\u001b[J193         15000       0.0104987   \n",
      "\u001b[J206         16000       0.0104593   \n",
      "\u001b[J219         17000       0.0104354   \n",
      "\u001b[J232         18000       0.0103991   \n",
      "\u001b[J245         19000       0.0103855   \n",
      "\u001b[J258         20000       0.0103616   \n",
      "\u001b[J271         21000       0.0103467   \n",
      "\u001b[J284         22000       0.0103188   \n",
      "\u001b[J297         23000       0.0102978   \n",
      "\u001b[J309         24000       0.0102987   \n",
      "\u001b[J322         25000       0.0102783   \n",
      "\u001b[J335         26000       0.0102634   \n",
      "\u001b[J348         27000       0.0102519   \n",
      "\u001b[J361         28000       0.0102409   \n",
      "\u001b[J374         29000       0.0102355   \n",
      "\u001b[J387         30000       0.0102283   \n",
      "\u001b[J400         31000       0.0102054   \n",
      "\u001b[J413         32000       0.0102037   \n",
      "\u001b[J426         33000       0.0101957   \n",
      "\u001b[J439         34000       0.0101886   \n",
      "\u001b[J451         35000       0.0101858   \n",
      "\u001b[J464         36000       0.0101705   \n",
      "\u001b[J477         37000       0.0101622   \n",
      "\u001b[J490         38000       0.010157    \n",
      "\u001b[J503         39000       0.0101418   \n",
      "\u001b[J516         40000       0.0101327   \n",
      "\u001b[J529         41000       0.0101346   \n",
      "\u001b[J542         42000       0.0101237   \n",
      "\u001b[J555         43000       0.0101084   \n",
      "\u001b[J568         44000       0.0100971   \n",
      "\u001b[J581         45000       0.010082    \n",
      "\u001b[J594         46000       0.0100759   \n",
      "\u001b[J606         47000       0.0100571   \n",
      "\u001b[J619         48000       0.0100473   \n",
      "\u001b[J632         49000       0.010029    \n",
      "\u001b[J645         50000       0.0100167   \n",
      "\u001b[J658         51000       0.0100015   \n",
      "\u001b[J671         52000       0.00998159  \n",
      "\u001b[J684         53000       0.00996948  \n",
      "\u001b[J697         54000       0.00994047  \n",
      "\u001b[J710         55000       0.00990952  \n",
      "\u001b[J723         56000       0.00988749  \n",
      "\u001b[J736         57000       0.00985594  \n",
      "\u001b[J748         58000       0.00981708  \n",
      "\u001b[J761         59000       0.00978548  \n",
      "\u001b[J774         60000       0.00974699  \n",
      "\u001b[J787         61000       0.00970327  \n",
      "\u001b[J800         62000       0.0096721   \n",
      "\u001b[J813         63000       0.00960717  \n",
      "\u001b[J826         64000       0.00956423  \n",
      "\u001b[J839         65000       0.00951454  \n",
      "\u001b[J852         66000       0.00945482  \n",
      "\u001b[J865         67000       0.00939316  \n",
      "\u001b[J878         68000       0.00935412  \n",
      "\u001b[J891         69000       0.00930659  \n",
      "\u001b[J903         70000       0.00924168  \n",
      "\u001b[J916         71000       0.00918968  \n",
      "\u001b[J929         72000       0.00913528  \n",
      "\u001b[J942         73000       0.00908697  \n",
      "\u001b[J955         74000       0.00902961  \n",
      "\u001b[J968         75000       0.00898797  \n",
      "\u001b[J981         76000       0.00894404  \n",
      "\u001b[J994         77000       0.00889909  \n",
      "\u001b[J1007        78000       0.00885191  \n",
      "\u001b[J1020        79000       0.00880133  \n",
      "\u001b[J1033        80000       0.00876882  \n",
      "\u001b[J1046        81000       0.00873049  \n",
      "\u001b[J1058        82000       0.00869308  \n",
      "\u001b[J1071        83000       0.00865049  \n",
      "\u001b[J1084        84000       0.00861759  \n",
      "\u001b[J1097        85000       0.00858156  \n",
      "\u001b[J1110        86000       0.00854563  \n",
      "\u001b[J1123        87000       0.00851047  \n",
      "\u001b[J1136        88000       0.00847887  \n",
      "\u001b[J1149        89000       0.0084446   \n",
      "\u001b[J1162        90000       0.00842629  \n",
      "\u001b[J1175        91000       0.00838965  \n",
      "\u001b[J1188        92000       0.00836112  \n",
      "\u001b[J1200        93000       0.00833673  \n",
      "\u001b[J1213        94000       0.00830973  \n",
      "\u001b[J1226        95000       0.00827991  \n",
      "\u001b[J1239        96000       0.00825073  \n",
      "\u001b[J1252        97000       0.00822814  \n",
      "\u001b[J1265        98000       0.00819995  \n",
      "\u001b[J1278        99000       0.00817951  \n",
      "\u001b[J1291        100000      0.00815924  \n",
      "\u001b[J1304        101000      0.00813758  \n",
      "\u001b[J1317        102000      0.00811887  \n",
      "\u001b[J1330        103000      0.00810312  \n",
      "\u001b[J1343        104000      0.00807277  \n",
      "\u001b[J1355        105000      0.00805886  \n",
      "\u001b[J1368        106000      0.00804143  \n",
      "\u001b[J1381        107000      0.00801788  \n",
      "\u001b[J1394        108000      0.00799737  \n",
      "\u001b[J1407        109000      0.00798013  \n",
      "\u001b[J1420        110000      0.00796078  \n",
      "\u001b[J1433        111000      0.0079426   \n",
      "\u001b[J1446        112000      0.00793519  \n",
      "\u001b[J1459        113000      0.00792249  \n",
      "\u001b[J1472        114000      0.0078946   \n",
      "\u001b[J1485        115000      0.00788229  \n",
      "\u001b[J1497        116000      0.00786915  \n"
     ]
    },
    {
     "name": "stderr",
     "output_type": "stream",
     "text": [
      "0it [00:00, ?it/s]"
     ]
    },
    {
     "name": "stdout",
     "output_type": "stream",
     "text": [
      "\n",
      "Searching best model...\n"
     ]
    },
    {
     "name": "stderr",
     "output_type": "stream",
     "text": [
      "50it [00:05,  9.27it/s]\n",
      "1it [00:00,  8.04it/s]"
     ]
    },
    {
     "name": "stdout",
     "output_type": "stream",
     "text": [
      "ittr 2000 val@1: 0.18\n"
     ]
    },
    {
     "name": "stderr",
     "output_type": "stream",
     "text": [
      "50it [00:05,  8.36it/s]\n",
      "1it [00:00,  7.20it/s]"
     ]
    },
    {
     "name": "stdout",
     "output_type": "stream",
     "text": [
      "ittr 4000 val@1: 0.22\n"
     ]
    },
    {
     "name": "stderr",
     "output_type": "stream",
     "text": [
      "50it [00:05,  9.09it/s]\n",
      "1it [00:00,  8.57it/s]"
     ]
    },
    {
     "name": "stdout",
     "output_type": "stream",
     "text": [
      "ittr 6000 val@1: 0.22\n"
     ]
    },
    {
     "name": "stderr",
     "output_type": "stream",
     "text": [
      "50it [00:05,  9.29it/s]\n",
      "1it [00:00,  8.66it/s]"
     ]
    },
    {
     "name": "stdout",
     "output_type": "stream",
     "text": [
      "ittr 8000 val@1: 0.26\n"
     ]
    },
    {
     "name": "stderr",
     "output_type": "stream",
     "text": [
      "50it [00:05,  9.46it/s]\n",
      "1it [00:00,  8.71it/s]"
     ]
    },
    {
     "name": "stdout",
     "output_type": "stream",
     "text": [
      "ittr 10000 val@1: 0.28\n"
     ]
    },
    {
     "name": "stderr",
     "output_type": "stream",
     "text": [
      "50it [00:05,  8.27it/s]\n",
      "1it [00:00,  8.08it/s]"
     ]
    },
    {
     "name": "stdout",
     "output_type": "stream",
     "text": [
      "ittr 12000 val@1: 0.26\n"
     ]
    },
    {
     "name": "stderr",
     "output_type": "stream",
     "text": [
      "50it [00:05,  7.65it/s]\n",
      "1it [00:00,  8.38it/s]"
     ]
    },
    {
     "name": "stdout",
     "output_type": "stream",
     "text": [
      "ittr 14000 val@1: 0.26\n"
     ]
    },
    {
     "name": "stderr",
     "output_type": "stream",
     "text": [
      "50it [00:05,  9.30it/s]\n",
      "1it [00:00,  8.84it/s]"
     ]
    },
    {
     "name": "stdout",
     "output_type": "stream",
     "text": [
      "ittr 16000 val@1: 0.28\n"
     ]
    },
    {
     "name": "stderr",
     "output_type": "stream",
     "text": [
      "50it [00:05,  8.60it/s]\n",
      "1it [00:00,  8.19it/s]"
     ]
    },
    {
     "name": "stdout",
     "output_type": "stream",
     "text": [
      "ittr 18000 val@1: 0.3\n"
     ]
    },
    {
     "name": "stderr",
     "output_type": "stream",
     "text": [
      "50it [00:05,  8.24it/s]\n",
      "1it [00:00,  8.72it/s]"
     ]
    },
    {
     "name": "stdout",
     "output_type": "stream",
     "text": [
      "ittr 20000 val@1: 0.28\n"
     ]
    },
    {
     "name": "stderr",
     "output_type": "stream",
     "text": [
      "50it [00:05,  8.74it/s]\n",
      "1it [00:00,  8.49it/s]"
     ]
    },
    {
     "name": "stdout",
     "output_type": "stream",
     "text": [
      "ittr 22000 val@1: 0.3\n"
     ]
    },
    {
     "name": "stderr",
     "output_type": "stream",
     "text": [
      "50it [00:05,  8.71it/s]\n",
      "1it [00:00,  8.92it/s]"
     ]
    },
    {
     "name": "stdout",
     "output_type": "stream",
     "text": [
      "ittr 24000 val@1: 0.3\n"
     ]
    },
    {
     "name": "stderr",
     "output_type": "stream",
     "text": [
      "50it [00:05,  9.47it/s]\n",
      "1it [00:00,  8.69it/s]"
     ]
    },
    {
     "name": "stdout",
     "output_type": "stream",
     "text": [
      "ittr 26000 val@1: 0.28\n"
     ]
    },
    {
     "name": "stderr",
     "output_type": "stream",
     "text": [
      "50it [00:05,  9.29it/s]\n",
      "1it [00:00,  8.72it/s]"
     ]
    },
    {
     "name": "stdout",
     "output_type": "stream",
     "text": [
      "ittr 28000 val@1: 0.32\n"
     ]
    },
    {
     "name": "stderr",
     "output_type": "stream",
     "text": [
      "50it [00:05,  8.76it/s]\n",
      "1it [00:00,  8.73it/s]"
     ]
    },
    {
     "name": "stdout",
     "output_type": "stream",
     "text": [
      "ittr 30000 val@1: 0.32\n"
     ]
    },
    {
     "name": "stderr",
     "output_type": "stream",
     "text": [
      "50it [00:05,  8.60it/s]\n",
      "1it [00:00,  7.51it/s]"
     ]
    },
    {
     "name": "stdout",
     "output_type": "stream",
     "text": [
      "ittr 32000 val@1: 0.34\n"
     ]
    },
    {
     "name": "stderr",
     "output_type": "stream",
     "text": [
      "50it [00:05,  8.50it/s]\n",
      "1it [00:00,  8.63it/s]"
     ]
    },
    {
     "name": "stdout",
     "output_type": "stream",
     "text": [
      "ittr 34000 val@1: 0.3\n"
     ]
    },
    {
     "name": "stderr",
     "output_type": "stream",
     "text": [
      "50it [00:06,  8.57it/s]\n",
      "1it [00:00,  8.49it/s]"
     ]
    },
    {
     "name": "stdout",
     "output_type": "stream",
     "text": [
      "ittr 36000 val@1: 0.32\n"
     ]
    },
    {
     "name": "stderr",
     "output_type": "stream",
     "text": [
      "50it [00:05,  9.56it/s]\n",
      "1it [00:00,  8.88it/s]"
     ]
    },
    {
     "name": "stdout",
     "output_type": "stream",
     "text": [
      "ittr 38000 val@1: 0.32\n"
     ]
    },
    {
     "name": "stderr",
     "output_type": "stream",
     "text": [
      "50it [00:05,  8.72it/s]\n",
      "0it [00:00, ?it/s]"
     ]
    },
    {
     "name": "stdout",
     "output_type": "stream",
     "text": [
      "ittr 40000 val@1: 0.34\n"
     ]
    },
    {
     "name": "stderr",
     "output_type": "stream",
     "text": [
      "50it [00:05,  9.42it/s]\n",
      "1it [00:00,  8.89it/s]"
     ]
    },
    {
     "name": "stdout",
     "output_type": "stream",
     "text": [
      "ittr 42000 val@1: 0.34\n"
     ]
    },
    {
     "name": "stderr",
     "output_type": "stream",
     "text": [
      "50it [00:05,  8.20it/s]\n",
      "1it [00:00,  6.50it/s]"
     ]
    },
    {
     "name": "stdout",
     "output_type": "stream",
     "text": [
      "ittr 44000 val@1: 0.34\n"
     ]
    },
    {
     "name": "stderr",
     "output_type": "stream",
     "text": [
      "50it [00:06,  8.34it/s]\n",
      "1it [00:00,  7.00it/s]"
     ]
    },
    {
     "name": "stdout",
     "output_type": "stream",
     "text": [
      "ittr 46000 val@1: 0.34\n"
     ]
    },
    {
     "name": "stderr",
     "output_type": "stream",
     "text": [
      "50it [00:06,  8.43it/s]\n",
      "1it [00:00,  7.82it/s]"
     ]
    },
    {
     "name": "stdout",
     "output_type": "stream",
     "text": [
      "ittr 48000 val@1: 0.34\n"
     ]
    },
    {
     "name": "stderr",
     "output_type": "stream",
     "text": [
      "50it [00:06,  8.09it/s]\n",
      "1it [00:00,  8.76it/s]"
     ]
    },
    {
     "name": "stdout",
     "output_type": "stream",
     "text": [
      "ittr 50000 val@1: 0.34\n"
     ]
    },
    {
     "name": "stderr",
     "output_type": "stream",
     "text": [
      "50it [00:06,  8.92it/s]\n",
      "1it [00:00,  8.10it/s]"
     ]
    },
    {
     "name": "stdout",
     "output_type": "stream",
     "text": [
      "ittr 52000 val@1: 0.36\n"
     ]
    },
    {
     "name": "stderr",
     "output_type": "stream",
     "text": [
      "50it [00:05,  8.25it/s]\n",
      "1it [00:00,  6.98it/s]"
     ]
    },
    {
     "name": "stdout",
     "output_type": "stream",
     "text": [
      "ittr 54000 val@1: 0.34\n"
     ]
    },
    {
     "name": "stderr",
     "output_type": "stream",
     "text": [
      "50it [00:06,  9.03it/s]\n",
      "1it [00:00,  7.81it/s]"
     ]
    },
    {
     "name": "stdout",
     "output_type": "stream",
     "text": [
      "ittr 56000 val@1: 0.34\n"
     ]
    },
    {
     "name": "stderr",
     "output_type": "stream",
     "text": [
      "50it [00:05,  5.78it/s]\n",
      "0it [00:00, ?it/s]"
     ]
    },
    {
     "name": "stdout",
     "output_type": "stream",
     "text": [
      "ittr 58000 val@1: 0.36\n"
     ]
    },
    {
     "name": "stderr",
     "output_type": "stream",
     "text": [
      "50it [00:09,  2.52it/s]\n",
      "0it [00:00, ?it/s]"
     ]
    },
    {
     "name": "stdout",
     "output_type": "stream",
     "text": [
      "ittr 60000 val@1: 0.38\n"
     ]
    },
    {
     "name": "stderr",
     "output_type": "stream",
     "text": [
      "50it [00:10,  7.94it/s]\n",
      "1it [00:00,  6.87it/s]"
     ]
    },
    {
     "name": "stdout",
     "output_type": "stream",
     "text": [
      "ittr 62000 val@1: 0.42\n"
     ]
    },
    {
     "name": "stderr",
     "output_type": "stream",
     "text": [
      "50it [00:06,  7.66it/s]\n",
      "1it [00:00,  7.32it/s]"
     ]
    },
    {
     "name": "stdout",
     "output_type": "stream",
     "text": [
      "ittr 64000 val@1: 0.4\n"
     ]
    },
    {
     "name": "stderr",
     "output_type": "stream",
     "text": [
      "50it [00:06,  7.62it/s]\n",
      "1it [00:00,  7.90it/s]"
     ]
    },
    {
     "name": "stdout",
     "output_type": "stream",
     "text": [
      "ittr 66000 val@1: 0.44\n"
     ]
    },
    {
     "name": "stderr",
     "output_type": "stream",
     "text": [
      "50it [00:05,  6.91it/s]\n",
      "1it [00:00,  8.28it/s]"
     ]
    },
    {
     "name": "stdout",
     "output_type": "stream",
     "text": [
      "ittr 68000 val@1: 0.48\n"
     ]
    },
    {
     "name": "stderr",
     "output_type": "stream",
     "text": [
      "50it [00:06,  8.05it/s]\n",
      "0it [00:00, ?it/s]"
     ]
    },
    {
     "name": "stdout",
     "output_type": "stream",
     "text": [
      "ittr 70000 val@1: 0.52\n"
     ]
    },
    {
     "name": "stderr",
     "output_type": "stream",
     "text": [
      "50it [00:05,  9.38it/s]\n",
      "1it [00:00,  8.66it/s]"
     ]
    },
    {
     "name": "stdout",
     "output_type": "stream",
     "text": [
      "ittr 72000 val@1: 0.58\n"
     ]
    },
    {
     "name": "stderr",
     "output_type": "stream",
     "text": [
      "50it [00:05,  8.86it/s]\n",
      "1it [00:00,  8.77it/s]"
     ]
    },
    {
     "name": "stdout",
     "output_type": "stream",
     "text": [
      "ittr 74000 val@1: 0.56\n"
     ]
    },
    {
     "name": "stderr",
     "output_type": "stream",
     "text": [
      "50it [00:06,  7.84it/s]\n",
      "1it [00:00,  7.66it/s]"
     ]
    },
    {
     "name": "stdout",
     "output_type": "stream",
     "text": [
      "ittr 76000 val@1: 0.6\n"
     ]
    },
    {
     "name": "stderr",
     "output_type": "stream",
     "text": [
      "50it [00:06,  8.11it/s]\n",
      "1it [00:00,  7.92it/s]"
     ]
    },
    {
     "name": "stdout",
     "output_type": "stream",
     "text": [
      "ittr 78000 val@1: 0.6\n"
     ]
    },
    {
     "name": "stderr",
     "output_type": "stream",
     "text": [
      "50it [00:05,  8.77it/s]\n",
      "1it [00:00,  7.14it/s]"
     ]
    },
    {
     "name": "stdout",
     "output_type": "stream",
     "text": [
      "ittr 80000 val@1: 0.62\n"
     ]
    },
    {
     "name": "stderr",
     "output_type": "stream",
     "text": [
      "50it [00:08,  6.59it/s]\n",
      "1it [00:00,  6.68it/s]"
     ]
    },
    {
     "name": "stdout",
     "output_type": "stream",
     "text": [
      "ittr 82000 val@1: 0.62\n"
     ]
    },
    {
     "name": "stderr",
     "output_type": "stream",
     "text": [
      "50it [00:07,  6.67it/s]\n",
      "0it [00:00, ?it/s]"
     ]
    },
    {
     "name": "stdout",
     "output_type": "stream",
     "text": [
      "ittr 84000 val@1: 0.64\n"
     ]
    },
    {
     "name": "stderr",
     "output_type": "stream",
     "text": [
      "50it [00:07,  8.21it/s]\n",
      "1it [00:00,  8.36it/s]"
     ]
    },
    {
     "name": "stdout",
     "output_type": "stream",
     "text": [
      "ittr 86000 val@1: 0.66\n"
     ]
    },
    {
     "name": "stderr",
     "output_type": "stream",
     "text": [
      "50it [00:06,  8.68it/s]\n",
      "1it [00:00,  6.93it/s]"
     ]
    },
    {
     "name": "stdout",
     "output_type": "stream",
     "text": [
      "ittr 88000 val@1: 0.66\n"
     ]
    },
    {
     "name": "stderr",
     "output_type": "stream",
     "text": [
      "50it [00:06,  9.58it/s]\n",
      "1it [00:00,  8.73it/s]"
     ]
    },
    {
     "name": "stdout",
     "output_type": "stream",
     "text": [
      "ittr 90000 val@1: 0.66\n"
     ]
    },
    {
     "name": "stderr",
     "output_type": "stream",
     "text": [
      "50it [00:05,  9.59it/s]\n",
      "1it [00:00,  8.94it/s]"
     ]
    },
    {
     "name": "stdout",
     "output_type": "stream",
     "text": [
      "ittr 92000 val@1: 0.66\n"
     ]
    },
    {
     "name": "stderr",
     "output_type": "stream",
     "text": [
      "50it [00:06,  7.21it/s]\n",
      "1it [00:00,  7.35it/s]"
     ]
    },
    {
     "name": "stdout",
     "output_type": "stream",
     "text": [
      "ittr 94000 val@1: 0.66\n"
     ]
    },
    {
     "name": "stderr",
     "output_type": "stream",
     "text": [
      "50it [00:06,  8.90it/s]\n",
      "1it [00:00,  8.65it/s]"
     ]
    },
    {
     "name": "stdout",
     "output_type": "stream",
     "text": [
      "ittr 96000 val@1: 0.66\n"
     ]
    },
    {
     "name": "stderr",
     "output_type": "stream",
     "text": [
      "50it [00:05,  8.99it/s]\n",
      "1it [00:00,  8.58it/s]"
     ]
    },
    {
     "name": "stdout",
     "output_type": "stream",
     "text": [
      "ittr 98000 val@1: 0.64\n"
     ]
    },
    {
     "name": "stderr",
     "output_type": "stream",
     "text": [
      "50it [00:05,  9.47it/s]\n",
      "1it [00:00,  8.98it/s]"
     ]
    },
    {
     "name": "stdout",
     "output_type": "stream",
     "text": [
      "ittr 100000 val@1: 0.66\n"
     ]
    },
    {
     "name": "stderr",
     "output_type": "stream",
     "text": [
      "50it [00:05,  9.68it/s]\n",
      "1it [00:00,  8.95it/s]"
     ]
    },
    {
     "name": "stdout",
     "output_type": "stream",
     "text": [
      "ittr 102000 val@1: 0.66\n"
     ]
    },
    {
     "name": "stderr",
     "output_type": "stream",
     "text": [
      "50it [00:05,  9.36it/s]\n",
      "1it [00:00,  8.79it/s]"
     ]
    },
    {
     "name": "stdout",
     "output_type": "stream",
     "text": [
      "ittr 104000 val@1: 0.64\n"
     ]
    },
    {
     "name": "stderr",
     "output_type": "stream",
     "text": [
      "50it [00:05,  7.96it/s]\n",
      "1it [00:00,  7.60it/s]"
     ]
    },
    {
     "name": "stdout",
     "output_type": "stream",
     "text": [
      "ittr 106000 val@1: 0.66\n"
     ]
    },
    {
     "name": "stderr",
     "output_type": "stream",
     "text": [
      "50it [00:05,  8.66it/s]\n",
      "1it [00:00,  7.87it/s]"
     ]
    },
    {
     "name": "stdout",
     "output_type": "stream",
     "text": [
      "ittr 108000 val@1: 0.64\n"
     ]
    },
    {
     "name": "stderr",
     "output_type": "stream",
     "text": [
      "50it [00:05,  8.33it/s]\n",
      "1it [00:00,  8.46it/s]"
     ]
    },
    {
     "name": "stdout",
     "output_type": "stream",
     "text": [
      "ittr 110000 val@1: 0.64\n"
     ]
    },
    {
     "name": "stderr",
     "output_type": "stream",
     "text": [
      "50it [00:05,  8.84it/s]\n",
      "1it [00:00,  8.68it/s]"
     ]
    },
    {
     "name": "stdout",
     "output_type": "stream",
     "text": [
      "ittr 112000 val@1: 0.64\n"
     ]
    },
    {
     "name": "stderr",
     "output_type": "stream",
     "text": [
      "50it [00:05,  7.52it/s]\n",
      "0it [00:00, ?it/s]"
     ]
    },
    {
     "name": "stdout",
     "output_type": "stream",
     "text": [
      "ittr 114000 val@1: 0.66\n",
      "best ittr:  86000\n",
      "best acc  :  0.66\n",
      "\n",
      "calculating accuracies...\n",
      "\tz:  capital-country_109\n"
     ]
    },
    {
     "name": "stderr",
     "output_type": "stream",
     "text": [
      "118it [00:14,  8.11it/s]\n",
      "1it [00:00,  7.26it/s]"
     ]
    },
    {
     "name": "stdout",
     "output_type": "stream",
     "text": [
      "train@1: 1\n",
      "train@2: 1\n",
      "train@3: 1\n"
     ]
    },
    {
     "name": "stderr",
     "output_type": "stream",
     "text": [
      "50it [00:06,  7.93it/s]\n",
      "1it [00:00,  8.31it/s]"
     ]
    },
    {
     "name": "stdout",
     "output_type": "stream",
     "text": [
      "val@1: 0.66\n",
      "val@2: 0.82\n",
      "val@3: 0.88\n"
     ]
    },
    {
     "name": "stderr",
     "output_type": "stream",
     "text": [
      "50it [00:06,  8.25it/s]\n"
     ]
    },
    {
     "name": "stdout",
     "output_type": "stream",
     "text": [
      "test@1: 0.74\n",
      "test@2: 0.84\n",
      "test@3: 0.88\n",
      "\n",
      "calculating stability score...\n",
      "\tz:  capital-country_109\n"
     ]
    },
    {
     "name": "stderr",
     "output_type": "stream",
     "text": [
      "100%|██████████| 1000/1000 [02:07<00:00,  7.52it/s]\n"
     ]
    },
    {
     "name": "stdout",
     "output_type": "stream",
     "text": [
      "stability@1: 0.998\n",
      "stability@2: 0.998\n",
      "stability@3: 0.998\n",
      "\n",
      "saving results and experimental settings...\n",
      "done.\n",
      "CPU times: user 1h 41min 8s, sys: 6min 1s, total: 1h 47min 9s\n",
      "Wall time: 1h 43min 6s\n"
     ]
    }
   ],
   "source": [
    "# Now\n",
    "now = str(datetime.datetime.today()).replace(' ', '_').replace(':', '-').replace('.', '_')\n",
    "print(now)\n",
    "\n",
    "# Reset parametors of net\n",
    "seed = 0\n",
    "data_loader.reset_seed(seed)\n",
    "\n",
    "# Set up a neural network to train\n",
    "dim_x = 300 # Dim of word2vec/GloVe\n",
    "dim_h = 300 # Dim of MLP hidden layers\n",
    "datasets = ['capital-country_109'] # male-female_53, singular-plural_140, capital-country_109\n",
    "n_attribute = len(datasets)\n",
    "sigma = 0.1\n",
    "net = nets.Ref_PM(dim_x, dim_h, n_attribute, sigma) \n",
    "\n",
    "experiment_name = 'Ref+PM_{}'.format(now)\n",
    "# Settings\n",
    "settings = {'experiment_name':experiment_name, \n",
    "            'word2vec':word2vec,\n",
    "            'num_N_train':0, # non-attribute words\n",
    "            'num_N_test':1000, # non-attribute words\n",
    "            'n_argument':20,\n",
    "            'batchsize':32, \n",
    "            'epoch':1500, \n",
    "            'alpha':0.0001, \n",
    "            'datasets':datasets,\n",
    "            'n_attribute':n_attribute,\n",
    "            'n_top':[1,2,3],\n",
    "            'gpu':gpu,\n",
    "            'model':{'net':net,\n",
    "                     'name':net.net_name, \n",
    "                     'dim_x':dim_x, \n",
    "                     'dim_h':dim_h, \n",
    "                     'n_attribute':n_attribute, \n",
    "                     'sigma':net.sigma,\n",
    "                     'reset_seed':seed},\n",
    "            'updater':{'updater':updater.AttributeTransferUpdater1,\n",
    "                       'name':updater.AttributeTransferUpdater1.__name__},\n",
    "            'resume':'',\n",
    "            'out':'{}/result/{}/net'.format(path_out, experiment_name),\n",
    "            'path_dataset':path_dataset,\n",
    "            'snapshot_interval':2000,\n",
    "            'display_interval':1000,\n",
    "            'other_info':{'when':now},\n",
    "            'post_process':{'best_model':True, 'acc':True, 'stb':True, 'save_results':True, 'train':True},\n",
    "            'embedding_method':embedding,\n",
    "           }\n",
    "\n",
    "# Experiment\n",
    "%time experiment.experiment1(settings)"
   ]
  },
  {
   "cell_type": "code",
   "execution_count": null,
   "metadata": {
    "colab": {},
    "colab_type": "code",
    "id": "v8iVcenvcMm1"
   },
   "outputs": [],
   "source": []
  },
  {
   "cell_type": "code",
   "execution_count": null,
   "metadata": {},
   "outputs": [],
   "source": []
  },
  {
   "cell_type": "code",
   "execution_count": null,
   "metadata": {},
   "outputs": [],
   "source": []
  }
 ],
 "metadata": {
  "colab": {
   "collapsed_sections": [],
   "name": "Ref+PM_word2vec.ipynb",
   "provenance": []
  },
  "kernelspec": {
   "display_name": "Python 3",
   "language": "python",
   "name": "python3"
  },
  "language_info": {
   "codemirror_mode": {
    "name": "ipython",
    "version": 3
   },
   "file_extension": ".py",
   "mimetype": "text/x-python",
   "name": "python",
   "nbconvert_exporter": "python",
   "pygments_lexer": "ipython3",
   "version": "3.5.2"
  }
 },
 "nbformat": 4,
 "nbformat_minor": 2
}
